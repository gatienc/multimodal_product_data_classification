{
 "cells": [
  {
   "cell_type": "code",
   "execution_count": null,
   "metadata": {},
   "outputs": [],
   "source": [
    "import cv2\n",
    "\n",
    "def find_smallest_bb(input_image_path):\n",
    "   # Load the image\n",
    "   img = cv2.imread(input_image_path)\n",
    "\n",
    "   # Convert the image to grayscale\n",
    "   gry = cv2.cvtColor(img, cv2.COLOR_BGR2GRAY)\n",
    "\n",
    "   # Apply a binary threshold to the grayscale image\n",
    "   _, th = cv2.threshold(gry, 1, 255, cv2.THRESH_BINARY_INV)\n",
    "\n",
    "   # Find all non-zero pixels in the binary image\n",
    "   coords = cv2.findNonZero(th)\n",
    "\n",
    "   # Calculate the bounding box of these non-zero pixels\n",
    "   x, y, w, h = cv2.boundingRect(coords)\n",
    "\n",
    "   return x, y, w, h\n",
    "\n",
    "x, y, w, h = find_smallest_bb('path_to_your_image')\n",
    "print(f\"Bounding box: x={x}, y={y}, width={w}, height={h}\")"
   ]
  },
  {
   "cell_type": "code",
   "execution_count": null,
   "metadata": {},
   "outputs": [],
   "source": []
  }
 ],
 "metadata": {
  "language_info": {
   "name": "python"
  }
 },
 "nbformat": 4,
 "nbformat_minor": 2
}
