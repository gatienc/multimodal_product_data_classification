{
  "nbformat": 4,
  "nbformat_minor": 0,
  "metadata": {
    "colab": {
      "provenance": [],
      "authorship_tag": "ABX9TyPUZB7kek4H4Qzx9tcT1KjU",
      "include_colab_link": true
    },
    "kernelspec": {
      "name": "python3",
      "display_name": "Python 3"
    },
    "language_info": {
      "name": "python"
    }
  },
  "cells": [
    {
      "cell_type": "markdown",
      "metadata": {
        "id": "view-in-github",
        "colab_type": "text"
      },
      "source": [
        "<a href=\"https://colab.research.google.com/github/gatienc/multimodal_product_data_classification/blob/main/notebooks/gatien_fusion_model_0.ipynb\" target=\"_parent\"><img src=\"https://colab.research.google.com/assets/colab-badge.svg\" alt=\"Open In Colab\"/></a>"
      ]
    },
    {
      "cell_type": "code",
      "source": [
        "!pip install unidecode"
      ],
      "metadata": {
        "colab": {
          "base_uri": "https://localhost:8080/"
        },
        "id": "hBXHMrlRNcJJ",
        "outputId": "73972c95-94da-4e01-ea74-cfcd7d6c3fa1"
      },
      "execution_count": 327,
      "outputs": [
        {
          "output_type": "stream",
          "name": "stdout",
          "text": [
            "Requirement already satisfied: unidecode in /usr/local/lib/python3.10/dist-packages (1.3.8)\n"
          ]
        }
      ]
    },
    {
      "cell_type": "markdown",
      "source": [
        "#Idea\n",
        "idea of this fusion model: our 2 model gives a vector of 27 element as output,\n",
        "we want to freeze both pretrained model, and just combine the output to classify better than on by one\n",
        "\n",
        "il faudrait qu'il y ai une couche qui fasse : $a*out_{image}+b*out_{text}$\n",
        "avec a et b des params entraînables"
      ],
      "metadata": {
        "id": "FQcDRR-iSsMX"
      }
    },
    {
      "cell_type": "code",
      "execution_count": 328,
      "metadata": {
        "id": "h5Yl2orsSbFN"
      },
      "outputs": [],
      "source": [
        "BATCH_SIZE=275#10.4/15GO\n",
        "num_classes=27\n",
        "\n",
        "train_percentage=0.80\n",
        "test_percentage=0.10\n",
        "valid_percentage=0.10\n"
      ]
    },
    {
      "cell_type": "markdown",
      "source": [
        "# Imports\n"
      ],
      "metadata": {
        "id": "Zqvc8uxrBNzF"
      }
    },
    {
      "cell_type": "code",
      "source": [
        "import nltk\n",
        "nltk.download('stopwords')"
      ],
      "metadata": {
        "colab": {
          "base_uri": "https://localhost:8080/"
        },
        "id": "92AVOgi-PvYG",
        "outputId": "9773337c-698b-4f6f-f883-2c8778a5ea44"
      },
      "execution_count": 329,
      "outputs": [
        {
          "output_type": "stream",
          "name": "stderr",
          "text": [
            "[nltk_data] Downloading package stopwords to /root/nltk_data...\n",
            "[nltk_data]   Package stopwords is already up-to-date!\n"
          ]
        },
        {
          "output_type": "execute_result",
          "data": {
            "text/plain": [
              "True"
            ]
          },
          "metadata": {},
          "execution_count": 329
        }
      ]
    },
    {
      "cell_type": "code",
      "source": [
        "\n",
        "import pandas as pd\n",
        "import re\n",
        "from sklearn.model_selection import train_test_split\n",
        "from sklearn.preprocessing import LabelEncoder\n",
        "import numpy as np\n",
        "\n",
        "import torch\n",
        "import torch.nn as nn\n",
        "import torch.optim as optim\n",
        "\n",
        "from torch.utils.data import Dataset, DataLoader\n",
        "from torch.optim import lr_scheduler\n",
        "import torchvision\n",
        "\n",
        "import imageio\n",
        "\n",
        "from tqdm.auto import tqdm # for cool loading bar\n",
        "\n",
        "\n",
        "# import for NLP\n",
        "from tensorflow.keras.preprocessing.text import Tokenizer\n",
        "from tensorflow.keras.preprocessing.sequence import pad_sequences\n",
        "\n",
        "from keras.utils import to_categorical\n",
        "\n",
        "from unidecode import unidecode\n",
        "from nltk.corpus import stopwords\n",
        "\n",
        "\n",
        "\n",
        "from sklearn.metrics import f1_score\n",
        "\n",
        "import zipfile\n",
        "import os\n",
        "import copy\n",
        "\n",
        "import matplotlib.pyplot as plt\n"
      ],
      "metadata": {
        "id": "OizAr-8tBUDx"
      },
      "execution_count": 330,
      "outputs": []
    },
    {
      "cell_type": "code",
      "source": [
        "# mount the drive where your dataset is availabledevice = torch.device(\"cuda:0\" if torch.cuda.is_available() else \"cpu\")\n",
        "from google.colab import drive\n",
        "drive.mount('/content/drive')\n",
        "filepath='/content/drive/MyDrive/datasets/multimodal_product_classification/' # add your own path. Where to save the dataset\n",
        "\n",
        "if not os.path.exists('datasets'):\n",
        "  os.makedirs('datasets')\n",
        "  with zipfile.ZipFile(filepath+'images.zip', 'r') as zip_ref:\n",
        "      zip_ref.extractall('datasets')"
      ],
      "metadata": {
        "colab": {
          "base_uri": "https://localhost:8080/"
        },
        "id": "81QaCSR6Baiv",
        "outputId": "7b408d44-2124-4e51-8fda-cebc51e1a415"
      },
      "execution_count": 331,
      "outputs": [
        {
          "output_type": "stream",
          "name": "stdout",
          "text": [
            "Drive already mounted at /content/drive; to attempt to forcibly remount, call drive.mount(\"/content/drive\", force_remount=True).\n"
          ]
        }
      ]
    },
    {
      "cell_type": "code",
      "source": [
        "device = torch.device(\"cuda:0\" if torch.cuda.is_available() else \"cpu\")\n"
      ],
      "metadata": {
        "id": "VuML9NpyBXKS"
      },
      "execution_count": 332,
      "outputs": []
    },
    {
      "cell_type": "markdown",
      "source": [
        "# Preprocessing"
      ],
      "metadata": {
        "id": "U5JZcRydJSq-"
      }
    },
    {
      "cell_type": "code",
      "source": [
        "# Load data\n",
        "X_train = pd.read_csv(filepath+'X_train.csv')\n",
        "y_train = pd.read_csv(filepath+'Y_train.csv')\n",
        "X_train=X_train.drop(columns=\"Unnamed: 0\")\n",
        "y_train=y_train.drop(columns=\"Unnamed: 0\")\n"
      ],
      "metadata": {
        "id": "XLP6T2xjDCDw"
      },
      "execution_count": 333,
      "outputs": []
    },
    {
      "cell_type": "code",
      "source": [
        "# Cleaning and Preprocessing Text\n",
        "\n",
        "\n",
        "CLEANR = re.compile('<.*?>') # delete html tag\n",
        "\n",
        "def clean_html(raw_html):\n",
        "  cleantext = re.sub(CLEANR, '', raw_html)\n",
        "  return cleantext\n",
        "def clean_special(text):\n",
        "    text = re.sub(r'[^a-z% ]', '', text)\n",
        "    return(text)\n",
        "\n",
        "def clean_text(text):\n",
        "    # Convert text to lowercase\n",
        "    text = text.lower()\n",
        "    text=re.sub('\\d', '%', text)#replace all digits by %\n",
        "    text=re.sub(\"'\", ' ', text)#replace all ' by a space\n",
        "\n",
        "    text = unidecode(text)\n",
        "    text=clean_html(text)\n",
        "    text=clean_special(text)\n",
        "    #clean stopwords\n",
        "    text_list=text.split()\n",
        "    text_list=[word for word in text_list if word not in final_stopwords_list]\n",
        "    text=\" \".join(text_list)\n",
        "    return(text)\n",
        "\n",
        "\n",
        "\n",
        "final_stopwords_list = stopwords.words('english') + stopwords.words('french')+stopwords.words('german')# Fr,En,De Stopwords\n",
        "\n",
        "\n",
        "# Apply cleaning function to the 'designation' column\n",
        "X_train['designation'] = X_train['designation'].fillna('').apply(clean_text)\n",
        "X_train['description'] = X_train['description'].fillna('').apply(clean_text)\n"
      ],
      "metadata": {
        "id": "JzDGmO-0C-lt"
      },
      "execution_count": 334,
      "outputs": []
    },
    {
      "cell_type": "code",
      "source": [
        "pd.set_option('display.max_colwidth', 150)\n",
        "X_train.designation.head(50)\n"
      ],
      "metadata": {
        "colab": {
          "base_uri": "https://localhost:8080/"
        },
        "id": "JrogdtIPJ2B7",
        "outputId": "20618e2d-1f8c-442d-ca64-fb15740a22dd"
      },
      "execution_count": 335,
      "outputs": [
        {
          "output_type": "execute_result",
          "data": {
            "text/plain": [
              "0                                                                            olivia personalisiertes notizbuch %%% seiten punktraster ca din a% rosendesign\n",
              "1     journal arts ndeg %%% %%%%%%%% art marche salon art asiatique paris jacques barrere francois perrier reforme ventes encheres publiques sna fete ce...\n",
              "2                                                                                grand stylet ergonomique bleu gamepad nintendo wii u speedlink pilot style\n",
              "3                                                                                                   peluche donald europe disneyland %%%% marionnette doigt\n",
              "4                                                                                                                                             guerre tuques\n",
              "5                                                                                           afrique contemporaine ndeg %%% hiver %%%% dossier japon afrique\n",
              "6                                                                                                                         christof e bildungsprozessen spur\n",
              "7                                                                        conquerant sept cahier couverture polypro %%% x %%% mm %% pages %%g seyes incolore\n",
              "8                                                                                                                       puzzle scoobydoo poster %x%% pieces\n",
              "9                                                                                  tente pliante v%s%pro pvc blanc % x %m%% longueur %m%% largeur % blanc h\n",
              "10                                                                                                                      eames inspired sxw chair pink black\n",
              "11                                                                                               fauteuil chesterfield brenton %%%% cuir buffle vert empire\n",
              "12                                                                                  peaceable kingdom wheres bear hide find stacking block game % year olds\n",
              "13                                                                                                                        paire voilages imprimes fantaisie\n",
              "14      matelas memoire forme %%%x%%% x %% cm tres ferme dehoussable housse lavable % zones confort noyau poli lattex hr derniere generation tres respirant\n",
              "15                                                                                                           zenith pince agrafeuse %%% ndeg%% coloris noir\n",
              "16                                                                                                          walter scott oeuvres completes tomes %%%% %% %%\n",
              "17                                                                                                                      mod podge dishwasher safe gloss %oz\n",
              "18                                                                                            power rangers rouge force mystic figurine transformable %% cm\n",
              "19    monde illustre ndeg %%%% %%%%%%%% emprunt victoire angleterre meeting guildhall lloyd george bonar law mac kenna conference allies briand barrere ...\n",
              "20                                                                                                                  kit desinfection piscines enfants %%%%%\n",
              "21                                                                                                                              glitter beach barbie barbie\n",
              "22                                                                                                        seigneur anneaux figurine plomb peindre socle sam\n",
              "23                                                                                                                                 vehicule star wars aast%\n",
              "24                                                    mini wifi %%%p camera drone rc quadcopter %% ghz %ch %axis gyro %d ufo fpv rc %%%% cocoworldgenerique\n",
              "25                                                                                                                             dsi chargeur sacoche %% jeux\n",
              "26                                                         modele voiture %pcs alliage metallique %%in jante roue %%% traxxas trx% hsp scx%% d%% rc voiture\n",
              "27                                                                          fabercastell lot % crayons couleur polychromos mine %%mm l%%huile vert emeraude\n",
              "28                                                                         univers ndeg %%% %%%%%%%% france paris %% septembre %%%% lac protestation joseph\n",
              "29                                                                                                  dragon ball super bt%%%% c%% premisses peur peu commune\n",
              "30                         lampe lecture rechargeable led lampe beaute lampe protection yeux lampe froide col cygne lampe moderne lampe bureau rechargeable\n",
              "31                                                                                                                                             xmen % movie\n",
              "32                                                                                                         % cagettes rangement happy life %% x %% cm beige\n",
              "33                                     lindner %%%%%%%%ce coin case nera xl % trays black coin inserts %% rectangular compartments coinscoin capsules %% mm\n",
              "34                                                                                                                                               lord rings\n",
              "35                                                                     decoration noel christmas snowman kitchen table chair covers holiday home decoration\n",
              "36                                                                              %% spots encastrable orientable blanc gu%% led %w eqv %%w blanc froid %%%%k\n",
              "37                                                             nouveau %%h%% echelle alloy mini pull back voiturette w clubs diecast jouets modele vehicule\n",
              "38                                                                                         %pcs decor coussin independance style jeter covers taie oreiller\n",
              "39                                                                                                                      bouee gonflable river tube oogarden\n",
              "40                                mini console jeux double joueurs % bits console jeux video %%% enfance jeux classiques av family tv controleur jeux retro\n",
              "41                                                                                                                            presentoir biscuits chocolats\n",
              "42                                                                                                   pilot mr stylo plume moyenne design crocodile noirbleu\n",
              "43                                                                     non toxique effacer slime coul beau melange nuage slime relief enfants jouets stress\n",
              "44                                                                                 diagrammes ndeg %% %%%%%%%% siecle petrole guillerme claudehenri rocquet\n",
              "45                                                                                       rideau oeillets plastique polyester uni essentiel lin %%% x %%% cm\n",
              "46                                                                                                            vassiviere enlimousin jardin art lieu memoire\n",
              "47                                                                                                               shin masoukishin panzer warfare import jap\n",
              "48                                                                                                                       dragon ball z serie % %% francaise\n",
              "49                                                              %%%pcs premium batons bracelets neon light glowing party favors rallye raves %%%% cocoworld\n",
              "Name: designation, dtype: object"
            ]
          },
          "metadata": {},
          "execution_count": 335
        }
      ]
    },
    {
      "cell_type": "code",
      "source": [
        "X_train.description.head(50)\n"
      ],
      "metadata": {
        "colab": {
          "base_uri": "https://localhost:8080/"
        },
        "id": "mz_PZHv7V4N7",
        "outputId": "795dbcfd-4fef-45b5-dd78-ff39a796a47c"
      },
      "execution_count": 336,
      "outputs": [
        {
          "output_type": "execute_result",
          "data": {
            "text/plain": [
              "0                                                                                                                                                          \n",
              "1                                                                                                                                                          \n",
              "2     pilot style touch pen marque speedlink % stylet ergonomique gamepad nintendo wii u confort optimal precision maximale gamepad wii u grand stylet h...\n",
              "3                                                                                                                                                          \n",
              "4           luc ideacutees grandeur veut organiser jeu guerre boules neige arranger ecirctre vainqueur incontesteacute sophie mecircle chambarde tous plans\n",
              "5                                                                                                                                                          \n",
              "6                                                                                                                                                          \n",
              "7                                          conquerant classique cahier %%% x %%% mm seyes incolorecouverture polypro %% pages agrafe papier %% gm%%%%%%%%%%\n",
              "8                                                                                                                                                          \n",
              "9     tente pliante v%s% pro pvc %%% grm % x %m%%que particulier jardin professionnel stand commercial receptions barnum v%s% pro %%% comblerimaginez st...\n",
              "10    timeless dsw seat paired types legs wood legs look like natural fit seat make safe choice interior chair perfect offices kitchens dining rooms ide...\n",
              "11    canape fauteuil chesterfield cuir antique br enton coloris chocolat vert empire rouge cherry disponible canape % places % places % places fauteuil...\n",
              "12    pcan %yearold play game yes game % year old collection designed child experience like take turns play within rules even loosely possibly learn new...\n",
              "13    paire voilages droits fantaisie mettra interieur valeurun parement uni petits coeurs suivi d%%un petit galon colore forme egalement coeur viendra ...\n",
              "14    matelasa accueil ferme soutien tres ferme technologie matelas face ete %% ame mousse poli lattex derniere generation indeformable tres haute resil...\n",
              "15    pince agrafeuse %%% ndeg%% capot abs dispositif antiblocage mecanisme corps metal agrafage %% feuilles capacite %%% agrafes ndeg%% profondeur gorg...\n",
              "16                                                                                                                                                         \n",
              "17                                                                                                                                                         \n",
              "18                                                                                                                                                         \n",
              "19                                                                                                                                                         \n",
              "20                                                                                                                                                         \n",
              "21                                                                                                             original barbie doll contains glitter lotion\n",
              "22                                                                                                                                                         \n",
              "23                                                                                                                    vehicule vintage saga star wars aast%\n",
              "24    mini wifi %%%p camera drone rc quadcopter %% ghz %ch %axis gyro %d ufo fpv rc description marque dhd d% point nod% frequence %% ghz canal % canaux...\n",
              "25                                                                                                                                                         \n",
              "26    %pcs alliage metallique %%in jante roue %%% traxxas trx% hsp scx%% d%% rc car description haute qualite moyeux roue %% pouces alliage metallique d...\n",
              "27    fabercastell crayon couleur polychromos vert emeraudepour artistes hexagonal resistant l%%essuyage auxintemperies mine craie l%%huile solideepaiss...\n",
              "28                                                                                                                                                         \n",
              "29                                                                                                                                                         \n",
              "30    nom marquesythampoules inclusesouicertificationcccmateriel corpsen aluminiumtype d%%ombreabsvoltage%vmaterielen aluminiumnumero modelesythdmsh%%%s...\n",
              "31                                                                                                                                                         \n",
              "32    organisez rangez maniere scandinave interieur grace lot deux cagettes citations debordantes bonne humeur empilables pourrez facilement ranger obte...\n",
              "33    timeless elegance clear design versatility functionality special haptics touch distinguished features nera series grained structure material conju...\n",
              "34                                                                                                                                                         \n",
              "35    christmas snowman kitchen table chair covers holiday home decoration descriptionproduct namechristmas ornamentsbrand new high qualityoccasion part...\n",
              "36    lot %% spots encastrable orientable blanc gu%% led %w %% %%w kit contenant x%% douilles gu%% %% x%% ampoules gu%% %w %% x%% colerettes blanche l%%...\n",
              "37    nouveau %%h%% echelle alloy mini pull back voiturette w clubs modele caracteristiques toy diecast vehicule %%%% qualite marque nouvelle haute %%% ...\n",
              "38    %pcs decor coussin independence day style throw taie d%%oreiller couvre vente produits point peut etre utilise decorer salon faire paraitre maison...\n",
              "39    bouee gonflable river tube pvc ideale parties glissade l%%eaudimensions article gonfle %%% x %%% x %% cmdimensions article plat %%% cmmatiere pvci...\n",
              "40                                              nom marquenoennamenullaffichage couleurouiecran tactilepas denumero modelecoolbabypaquetouicommunicationusb\n",
              "41                                                                                                                                                         \n",
              "42    couleurcrocodile noirbleu description produit touche esprit sauvage ecriture styloplume premium plume acier corps metal rechargeable cartouches di...\n",
              "43    non toxique effacer slime couleur beau melange nuage slime relief enfants stress jouets caracteristiques fabrique matieres premieres respectueuses...\n",
              "44                                                                                                                                                         \n",
              "45    retaposer rideau installe facilement fera gagner temps composition %%%% polyester rideau protegera regards exterieurs laissera passer lumiere dime...\n",
              "46                                                                                                                                                         \n",
              "47                                                                                                                                                         \n",
              "48                                                                                                                                                         \n",
              "49    %%%pcs premium batons bracelets neon light party favors glowing rallye raves proposons choix couleur style ferons parvenir produit hasard esperons...\n",
              "Name: description, dtype: object"
            ]
          },
          "metadata": {},
          "execution_count": 336
        }
      ]
    },
    {
      "cell_type": "code",
      "source": [
        "# Tokenization\n",
        "tokenizer = Tokenizer()\n",
        "tokenizer.fit_on_texts(X_train['designation'])\n",
        "designation_sequences = tokenizer.texts_to_sequences(X_train['designation'])\n",
        "description_sequences = tokenizer.texts_to_sequences(X_train['description'])\n"
      ],
      "metadata": {
        "id": "ytY0WIWtJ1VH"
      },
      "execution_count": 337,
      "outputs": []
    },
    {
      "cell_type": "code",
      "source": [
        "designation_maxlen=max(len(x) for x in designation_sequences)#maxlen for designation\n",
        "designation_maxlen"
      ],
      "metadata": {
        "colab": {
          "base_uri": "https://localhost:8080/"
        },
        "id": "0SeQ7YL1cPxm",
        "outputId": "0c43f602-6ddb-45ba-d95e-09d9be56f66d"
      },
      "execution_count": 338,
      "outputs": [
        {
          "output_type": "execute_result",
          "data": {
            "text/plain": [
              "40"
            ]
          },
          "metadata": {},
          "execution_count": 338
        }
      ]
    },
    {
      "cell_type": "code",
      "source": [
        "max(len(x) for x in tokenizer.texts_to_sequences(X_train['description']))#max description size is 1090\n"
      ],
      "metadata": {
        "id": "WUFz-Cc3bY0I"
      },
      "execution_count": null,
      "outputs": []
    },
    {
      "cell_type": "code",
      "source": [
        "import plotly.express as px\n",
        "desc_len=[len(x) for x in tokenizer.texts_to_sequences(X_train['description'])]\n",
        "fig = px.histogram(pd.DataFrame(desc_len,columns=[\"x\"]), x=\"x\")\n",
        "fig.show()\n",
        "#plt.hist(desc_len,)"
      ],
      "metadata": {
        "id": "Fio3euxcy2nx"
      },
      "execution_count": null,
      "outputs": []
    },
    {
      "cell_type": "code",
      "source": [
        "# Padding to max length of text\n",
        "padded_designation=pad_sequences(designation_sequences,maxlen=designation_maxlen)\n",
        "padded_description=pad_sequences(description_sequences,maxlen=200)"
      ],
      "metadata": {
        "id": "QIjBsCPlejDw"
      },
      "execution_count": null,
      "outputs": []
    },
    {
      "cell_type": "code",
      "source": [
        "for i, row in X_train.iterrows():\n",
        "    X_train.at[i, 'designation'] = padded_designation[i]\n",
        "    X_train.at[i, \"description\"] = padded_description[i]"
      ],
      "metadata": {
        "id": "P-Fzxmeahj9q"
      },
      "execution_count": null,
      "outputs": []
    },
    {
      "cell_type": "code",
      "source": [
        "X_train"
      ],
      "metadata": {
        "id": "EhOUa-eJfgi0"
      },
      "execution_count": null,
      "outputs": []
    },
    {
      "cell_type": "code",
      "source": [
        "# Assuming the number of unique words in the tokenizer plus 1 is vocab_size\n",
        "vocab_size = len(tokenizer.word_index) + 1\n",
        "print(f'{vocab_size=}')# nearly 64517 of vocab size, it seems too much :/"
      ],
      "metadata": {
        "id": "WorEJrmDpZkX"
      },
      "execution_count": null,
      "outputs": []
    },
    {
      "cell_type": "code",
      "source": [
        "# Split data into training and validation set (80% train, 20% validation)\n",
        "X_train, X_val, y_train, y_val = train_test_split(X_train, y_train, test_size=0.2,shuffle=False)\n",
        "y_train=y_train[\"prdtypecode\"].tolist()\n",
        "y_val=y_val[\"prdtypecode\"].tolist()\n",
        "\n",
        "# Convert labels to categorical\n",
        "label_encoder = LabelEncoder()\n",
        "y_train_encoded = label_encoder.fit_transform(y_train)\n",
        "y_val_encoded = label_encoder.transform(y_val)\n",
        "\n",
        "# Convert to one-hot encoding\n",
        "y_train_categorical = to_categorical(y_train_encoded)\n",
        "y_val_categorical = to_categorical(y_val_encoded)"
      ],
      "metadata": {
        "id": "Xj8eh8_abOwN"
      },
      "execution_count": null,
      "outputs": []
    },
    {
      "cell_type": "code",
      "source": [
        "y_train=pd.DataFrame(y_train,columns=[\"labels\"])"
      ],
      "metadata": {
        "id": "8SPEmcacx8Ag"
      },
      "execution_count": null,
      "outputs": []
    },
    {
      "cell_type": "code",
      "source": [
        "train_df=pd.concat([X_train,y_train],axis=1)"
      ],
      "metadata": {
        "id": "vnl-PDWJxj-j"
      },
      "execution_count": null,
      "outputs": []
    },
    {
      "cell_type": "code",
      "source": [
        "train_df"
      ],
      "metadata": {
        "id": "wwKmYYvG17Gt"
      },
      "execution_count": null,
      "outputs": []
    },
    {
      "cell_type": "markdown",
      "source": [
        "\n",
        "# Data loading"
      ],
      "metadata": {
        "id": "9yrOg2yB3UUl"
      }
    },
    {
      "cell_type": "code",
      "source": [
        "def image_to_tensor(image):\n",
        "    img=torch.from_numpy(image)\n",
        "    out=img.permute(2,0,1)\n",
        "    return(out)"
      ],
      "metadata": {
        "id": "GlteYRPK6qk8"
      },
      "execution_count": null,
      "outputs": []
    },
    {
      "cell_type": "code",
      "source": [
        "class ImageTextDataLoader():\n",
        "    \"\"\"Title, Description and Image dataset.\"\"\"\n",
        "\n",
        "    def __init__(self, dataframe, image_dir, transform=None):\n",
        "        \"\"\"\n",
        "        Arguments:\n",
        "            csv_file (string): Path to the csv file with annotations.\n",
        "            image_dir (string): Directory with all the images.\n",
        "            transform (callable, optional): Optional transform to be applied\n",
        "                on a sample.\n",
        "        \"\"\"\n",
        "        self.df = dataframe\n",
        "        self.image_dir = image_dir\n",
        "        self.transform = transform\n",
        "\n",
        "    def __len__(self):\n",
        "        return len(self.df)\n",
        "\n",
        "    def __getitem__(self, idx):\n",
        "        if torch.is_tensor(idx):\n",
        "            idx = idx.tolist()\n",
        "        if type(idx)==str:\n",
        "            idx=int(idx)\n",
        "\n",
        "        selected_df=self.df.iloc[idx]\n",
        "\n",
        "        for index, row in selected_df.iterrows():\n",
        "            print(row)\n",
        "            image_name=\"image_\"+str(row[\"imageid\"])+\"_product_\"+str(row[\"productid\"])+\".jpg\"\n",
        "            filepath=os.path.join(self.image_dir,image_name)\n",
        "            print(filepath)\n",
        "            image_arr = imageio.v3.imread(filepath)\n",
        "            t_image=image_to_tensor(image_arr)\n",
        "            if 't_images' in locals():\n",
        "                torch.cat([t_images,t_image])\n",
        "            else:\n",
        "                t_images=t_image\n",
        "\n",
        "\n",
        "        if self.transform:\n",
        "           t_images = self.transform(t_images)\n",
        "\n",
        "        t_designation=torch.tensor(selected_df['designation'].to_list(),device=device)\n",
        "        t_description=torch.tensor(selected_df['description'].to_list(),device=device)\n",
        "        t_labels=torch.tensor(selected_df['labels'],device=device)\n",
        "\n",
        "        return [t_designation,t_description,t_images,t_labels]\n"
      ],
      "metadata": {
        "id": "2Aq5ejkMivSe"
      },
      "execution_count": null,
      "outputs": []
    },
    {
      "cell_type": "code",
      "source": [
        "transform = torchvision.transforms.Compose([\n",
        "            torchvision.transforms.Resize(256),\n",
        "            torchvision.transforms.CenterCrop(224),\n",
        "            torchvision.transforms.ToTensor(),\n",
        "            torchvision.transforms.Normalize(mean=[0.485, 0.456, 0.406], std=[0.229, 0.224, 0.225]),\n",
        "       ])"
      ],
      "metadata": {
        "id": "uAnimxd2ILAg"
      },
      "execution_count": null,
      "outputs": []
    },
    {
      "cell_type": "code",
      "source": [
        "dataset=ImageTextDataLoader(train_df,\"/contents/datasets/images/image_train\",transform)\n"
      ],
      "metadata": {
        "id": "KRy2RCUhHwaw"
      },
      "execution_count": null,
      "outputs": []
    },
    {
      "cell_type": "code",
      "source": [
        "dataset[[0,1]]"
      ],
      "metadata": {
        "id": "UH8mY6jDn7sN"
      },
      "execution_count": null,
      "outputs": []
    },
    {
      "cell_type": "code",
      "source": [
        "train_size = int(train_percentage * len(dataset))\n",
        "valid_size = int(test_percentage * len(dataset))\n",
        "test_size = len(dataset) - train_size - valid_size\n",
        "\n",
        "train_dataset, valid_dataset, test_dataset = torch.utils.data.random_split(dataset, [train_size, valid_size, test_size])\n",
        "train_dataloader = DataLoader(train_dataset, batch_size=BATCH_SIZE, shuffle=True)\n",
        "valid_dataloader = DataLoader(valid_dataset, batch_size=BATCH_SIZE, shuffle=True)\n",
        "test_dataloader = DataLoader(test_dataset, batch_size=BATCH_SIZE, shuffle=True)\n",
        "\n",
        "\n",
        "dataloaders={\n",
        "    'train':train_dataloader,\n",
        "    'val':valid_dataloader,\n",
        "    'test':test_dataloader\n",
        "    }\n",
        "\n",
        "model = torchvision.models.resnet18(weights=\"IMAGENET1K_V1\")\n",
        "\n",
        "# Replace the last fully-connected layer\n",
        "num_ftrs = model.fc.in_features\n",
        "model.fc = torch.nn.Linear(num_ftrs, num_classes) # num_classes is the number of classes in your dataset\n",
        "\n",
        "\n",
        "model.load_state_dict(torch.load(\"/content/drive/MyDrive/Lessons/Models/multimodal_classification/Resnet16-best10.ckpt\",map_location=device))\n"
      ],
      "metadata": {
        "id": "w0eZPtjTBdoy"
      },
      "execution_count": null,
      "outputs": []
    },
    {
      "cell_type": "code",
      "source": [
        "data_batch = next(iter(train_dataloader))"
      ],
      "metadata": {
        "id": "e252R4xYEoeu"
      },
      "execution_count": null,
      "outputs": []
    },
    {
      "cell_type": "code",
      "source": [
        "data_batch"
      ],
      "metadata": {
        "id": "TmdoMWBSE73B"
      },
      "execution_count": null,
      "outputs": []
    }
  ]
}