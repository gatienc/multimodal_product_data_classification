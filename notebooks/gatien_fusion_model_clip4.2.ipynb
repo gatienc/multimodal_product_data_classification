{
  "cells": [
    {
      "cell_type": "markdown",
      "metadata": {
        "colab_type": "text",
        "id": "view-in-github"
      },
      "source": [
        "<a href=\"https://colab.research.google.com/github/gatienc/multimodal_product_data_classification/blob/main/notebooks/gatien_fusion_model_clip4.ipynb\" target=\"_parent\"><img src=\"https://colab.research.google.com/assets/colab-badge.svg\" alt=\"Open In Colab\"/></a>"
      ]
    },
    {
      "cell_type": "markdown",
      "metadata": {
        "id": "FQcDRR-iSsMX"
      },
      "source": [
        "# Idea\n",
        "### CLIP1:\n",
        "In this version I am trying to use only image and designation, I'm applying\n",
        "Explicit Cross-modal Interaction from\n",
        "[Hate-CLIPper: Multimodal Hateful Meme Classification based on Cross-modal Interaction of CLIP Features](https://arxiv.org/pdf/2210.05916.pdf)\n",
        "\n",
        "### CLIP2:\n",
        "diff: added a dropout layer to reduce overfitting\n",
        "\n",
        "\n",
        "### CLIP3:\n",
        "diff: if description exists, we get the mean of the features of description &&\n",
        "added stopword to the description and designation\n",
        "### CLIP4\n",
        "diff : preprocess images to be the max size possible so every image are not surrounded by white\n",
        "\n",
        "current research, do upscale algorithm be better than just a resize of the image, need to find paper on the supject"
      ]
    },
    {
      "cell_type": "markdown",
      "metadata": {
        "id": "xYKc-9CuJFrQ"
      },
      "source": [
        "# Hyperparameters"
      ]
    },
    {
      "cell_type": "code",
      "execution_count": 288,
      "metadata": {
        "id": "h5Yl2orsSbFN"
      },
      "outputs": [],
      "source": [
        "BATCH_SIZE=128#  8 for 13.8 gb usage, 6 for less than 12 gb usage\n",
        "NUM_CLASSES=27\n",
        "batch_size=128\n",
        "\n",
        "CLIP_FEATURE_SIZE=768\n",
        "\n",
        "#testing\n",
        "train_percentage=0.001\n",
        "valid_percentage=0.001\n",
        "\n",
        "# train_percentage=0.8\n",
        "# valid_percentage=0.1\n",
        "#(test_percentage takes the rest)\n",
        "\n",
        "use_cropped=True\n",
        "\n",
        "google_colab=False\n",
        "force_cpu=False\n"
      ]
    },
    {
      "cell_type": "code",
      "execution_count": 289,
      "metadata": {},
      "outputs": [],
      "source": [
        "TEXT_EMBEDDING_DIM=300 #cannot be changed or retrain the text model\n",
        "VOCAB_SIZE=67465"
      ]
    },
    {
      "cell_type": "code",
      "execution_count": 290,
      "metadata": {
        "id": "3oI7Hd7q-iea"
      },
      "outputs": [
        {
          "data": {
            "text/plain": [
              "'cropped_images'"
            ]
          },
          "execution_count": 290,
          "metadata": {},
          "output_type": "execute_result"
        }
      ],
      "source": [
        "images_name=\"cropped_images\" if use_cropped else \"images\"\n",
        "images_name"
      ]
    },
    {
      "cell_type": "markdown",
      "metadata": {
        "id": "Zqvc8uxrBNzF"
      },
      "source": [
        "# Imports\n"
      ]
    },
    {
      "cell_type": "code",
      "execution_count": 291,
      "metadata": {
        "colab": {
          "base_uri": "https://localhost:8080/"
        },
        "id": "ochIknq4-ieb",
        "outputId": "8648c855-7e83-4e0b-94d4-95b9ecbb6279"
      },
      "outputs": [
        {
          "name": "stdout",
          "output_type": "stream",
          "text": [
            "Requirement already satisfied: transformers in /opt/mamba/lib/python3.10/site-packages (4.36.2)\n",
            "Requirement already satisfied: pandas in /opt/mamba/lib/python3.10/site-packages (2.2.0)\n",
            "Requirement already satisfied: tqdm in /opt/mamba/lib/python3.10/site-packages (4.66.1)\n",
            "Requirement already satisfied: scikit-learn in /opt/mamba/lib/python3.10/site-packages (1.4.0)\n",
            "Requirement already satisfied: imageio in /opt/mamba/lib/python3.10/site-packages (2.33.1)\n",
            "Requirement already satisfied: matplotlib in /opt/mamba/lib/python3.10/site-packages (3.8.2)\n",
            "Requirement already satisfied: wget in /opt/mamba/lib/python3.10/site-packages (3.2)\n",
            "Requirement already satisfied: plotly in /opt/mamba/lib/python3.10/site-packages (5.18.0)\n",
            "Requirement already satisfied: dash in /opt/mamba/lib/python3.10/site-packages (2.14.2)\n",
            "Requirement already satisfied: unidecode in /opt/mamba/lib/python3.10/site-packages (1.3.8)\n",
            "Requirement already satisfied: tensorflow in /opt/mamba/lib/python3.10/site-packages (2.15.0.post1)\n",
            "Requirement already satisfied: filelock in /opt/mamba/lib/python3.10/site-packages (from transformers) (3.13.1)\n",
            "Requirement already satisfied: huggingface-hub<1.0,>=0.19.3 in /opt/mamba/lib/python3.10/site-packages (from transformers) (0.20.2)\n",
            "Requirement already satisfied: numpy>=1.17 in /opt/mamba/lib/python3.10/site-packages (from transformers) (1.26.3)\n",
            "Requirement already satisfied: packaging>=20.0 in /opt/mamba/lib/python3.10/site-packages (from transformers) (23.1)\n",
            "Requirement already satisfied: pyyaml>=5.1 in /opt/mamba/lib/python3.10/site-packages (from transformers) (6.0.1)\n",
            "Requirement already satisfied: regex!=2019.12.17 in /opt/mamba/lib/python3.10/site-packages (from transformers) (2023.12.25)\n",
            "Requirement already satisfied: requests in /opt/mamba/lib/python3.10/site-packages (from transformers) (2.31.0)\n",
            "Requirement already satisfied: tokenizers<0.19,>=0.14 in /opt/mamba/lib/python3.10/site-packages (from transformers) (0.15.0)\n",
            "Requirement already satisfied: safetensors>=0.3.1 in /opt/mamba/lib/python3.10/site-packages (from transformers) (0.4.1)\n",
            "Requirement already satisfied: python-dateutil>=2.8.2 in /opt/mamba/lib/python3.10/site-packages (from pandas) (2.8.2)\n",
            "Requirement already satisfied: pytz>=2020.1 in /opt/mamba/lib/python3.10/site-packages (from pandas) (2023.3.post1)\n",
            "Requirement already satisfied: tzdata>=2022.7 in /opt/mamba/lib/python3.10/site-packages (from pandas) (2023.4)\n",
            "Requirement already satisfied: scipy>=1.6.0 in /opt/mamba/lib/python3.10/site-packages (from scikit-learn) (1.12.0)\n",
            "Requirement already satisfied: joblib>=1.2.0 in /opt/mamba/lib/python3.10/site-packages (from scikit-learn) (1.3.2)\n",
            "Requirement already satisfied: threadpoolctl>=2.0.0 in /opt/mamba/lib/python3.10/site-packages (from scikit-learn) (3.2.0)\n",
            "Requirement already satisfied: pillow>=8.3.2 in /opt/mamba/lib/python3.10/site-packages (from imageio) (10.2.0)\n",
            "Requirement already satisfied: contourpy>=1.0.1 in /opt/mamba/lib/python3.10/site-packages (from matplotlib) (1.2.0)\n",
            "Requirement already satisfied: cycler>=0.10 in /opt/mamba/lib/python3.10/site-packages (from matplotlib) (0.12.1)\n",
            "Requirement already satisfied: fonttools>=4.22.0 in /opt/mamba/lib/python3.10/site-packages (from matplotlib) (4.47.2)\n",
            "Requirement already satisfied: kiwisolver>=1.3.1 in /opt/mamba/lib/python3.10/site-packages (from matplotlib) (1.4.5)\n",
            "Requirement already satisfied: pyparsing>=2.3.1 in /opt/mamba/lib/python3.10/site-packages (from matplotlib) (3.1.1)\n",
            "Requirement already satisfied: tenacity>=6.2.0 in /opt/mamba/lib/python3.10/site-packages (from plotly) (8.2.3)\n",
            "Requirement already satisfied: Flask<3.1,>=1.0.4 in /opt/mamba/lib/python3.10/site-packages (from dash) (3.0.1)\n",
            "Requirement already satisfied: Werkzeug<3.1 in /opt/mamba/lib/python3.10/site-packages (from dash) (3.0.1)\n",
            "Requirement already satisfied: dash-html-components==2.0.0 in /opt/mamba/lib/python3.10/site-packages (from dash) (2.0.0)\n",
            "Requirement already satisfied: dash-core-components==2.0.0 in /opt/mamba/lib/python3.10/site-packages (from dash) (2.0.0)\n",
            "Requirement already satisfied: dash-table==5.0.0 in /opt/mamba/lib/python3.10/site-packages (from dash) (5.0.0)\n",
            "Requirement already satisfied: typing-extensions>=4.1.1 in /opt/mamba/lib/python3.10/site-packages (from dash) (4.9.0)\n",
            "Requirement already satisfied: retrying in /opt/mamba/lib/python3.10/site-packages (from dash) (1.3.4)\n",
            "Requirement already satisfied: ansi2html in /opt/mamba/lib/python3.10/site-packages (from dash) (1.9.1)\n",
            "Requirement already satisfied: nest-asyncio in /opt/mamba/lib/python3.10/site-packages (from dash) (1.5.8)\n",
            "Requirement already satisfied: setuptools in /opt/mamba/lib/python3.10/site-packages (from dash) (68.1.2)\n",
            "Requirement already satisfied: importlib-metadata in /opt/mamba/lib/python3.10/site-packages (from dash) (7.0.1)\n",
            "Requirement already satisfied: absl-py>=1.0.0 in /opt/mamba/lib/python3.10/site-packages (from tensorflow) (2.1.0)\n",
            "Requirement already satisfied: astunparse>=1.6.0 in /opt/mamba/lib/python3.10/site-packages (from tensorflow) (1.6.3)\n",
            "Requirement already satisfied: flatbuffers>=23.5.26 in /opt/mamba/lib/python3.10/site-packages (from tensorflow) (23.5.26)\n",
            "Requirement already satisfied: gast!=0.5.0,!=0.5.1,!=0.5.2,>=0.2.1 in /opt/mamba/lib/python3.10/site-packages (from tensorflow) (0.5.4)\n",
            "Requirement already satisfied: google-pasta>=0.1.1 in /opt/mamba/lib/python3.10/site-packages (from tensorflow) (0.2.0)\n",
            "Requirement already satisfied: h5py>=2.9.0 in /opt/mamba/lib/python3.10/site-packages (from tensorflow) (3.10.0)\n",
            "Requirement already satisfied: libclang>=13.0.0 in /opt/mamba/lib/python3.10/site-packages (from tensorflow) (16.0.6)\n",
            "Requirement already satisfied: ml-dtypes~=0.2.0 in /opt/mamba/lib/python3.10/site-packages (from tensorflow) (0.2.0)\n",
            "Requirement already satisfied: opt-einsum>=2.3.2 in /opt/mamba/lib/python3.10/site-packages (from tensorflow) (3.3.0)\n",
            "Requirement already satisfied: protobuf!=4.21.0,!=4.21.1,!=4.21.2,!=4.21.3,!=4.21.4,!=4.21.5,<5.0.0dev,>=3.20.3 in /opt/mamba/lib/python3.10/site-packages (from tensorflow) (4.23.4)\n",
            "Requirement already satisfied: six>=1.12.0 in /opt/mamba/lib/python3.10/site-packages (from tensorflow) (1.16.0)\n",
            "Requirement already satisfied: termcolor>=1.1.0 in /opt/mamba/lib/python3.10/site-packages (from tensorflow) (2.4.0)\n",
            "Requirement already satisfied: wrapt<1.15,>=1.11.0 in /opt/mamba/lib/python3.10/site-packages (from tensorflow) (1.14.1)\n",
            "Requirement already satisfied: tensorflow-io-gcs-filesystem>=0.23.1 in /opt/mamba/lib/python3.10/site-packages (from tensorflow) (0.35.0)\n",
            "Requirement already satisfied: grpcio<2.0,>=1.24.3 in /opt/mamba/lib/python3.10/site-packages (from tensorflow) (1.60.0)\n",
            "Requirement already satisfied: tensorboard<2.16,>=2.15 in /opt/mamba/lib/python3.10/site-packages (from tensorflow) (2.15.1)\n",
            "Requirement already satisfied: tensorflow-estimator<2.16,>=2.15.0 in /opt/mamba/lib/python3.10/site-packages (from tensorflow) (2.15.0)\n",
            "Requirement already satisfied: keras<2.16,>=2.15.0 in /opt/mamba/lib/python3.10/site-packages (from tensorflow) (2.15.0)\n",
            "Requirement already satisfied: wheel<1.0,>=0.23.0 in /opt/mamba/lib/python3.10/site-packages (from astunparse>=1.6.0->tensorflow) (0.42.0)\n",
            "Requirement already satisfied: Jinja2>=3.1.2 in /opt/mamba/lib/python3.10/site-packages (from Flask<3.1,>=1.0.4->dash) (3.1.3)\n",
            "Requirement already satisfied: itsdangerous>=2.1.2 in /opt/mamba/lib/python3.10/site-packages (from Flask<3.1,>=1.0.4->dash) (2.1.2)\n",
            "Requirement already satisfied: click>=8.1.3 in /opt/mamba/lib/python3.10/site-packages (from Flask<3.1,>=1.0.4->dash) (8.1.7)\n",
            "Requirement already satisfied: blinker>=1.6.2 in /opt/mamba/lib/python3.10/site-packages (from Flask<3.1,>=1.0.4->dash) (1.7.0)\n",
            "Requirement already satisfied: fsspec>=2023.5.0 in /opt/mamba/lib/python3.10/site-packages (from huggingface-hub<1.0,>=0.19.3->transformers) (2023.12.2)\n",
            "Requirement already satisfied: google-auth<3,>=1.6.3 in /opt/mamba/lib/python3.10/site-packages (from tensorboard<2.16,>=2.15->tensorflow) (2.26.2)\n",
            "Requirement already satisfied: google-auth-oauthlib<2,>=0.5 in /opt/mamba/lib/python3.10/site-packages (from tensorboard<2.16,>=2.15->tensorflow) (1.2.0)\n",
            "Requirement already satisfied: markdown>=2.6.8 in /opt/mamba/lib/python3.10/site-packages (from tensorboard<2.16,>=2.15->tensorflow) (3.5.2)\n",
            "Requirement already satisfied: tensorboard-data-server<0.8.0,>=0.7.0 in /opt/mamba/lib/python3.10/site-packages (from tensorboard<2.16,>=2.15->tensorflow) (0.7.2)\n",
            "Requirement already satisfied: charset-normalizer<4,>=2 in /opt/mamba/lib/python3.10/site-packages (from requests->transformers) (3.2.0)\n",
            "Requirement already satisfied: idna<4,>=2.5 in /opt/mamba/lib/python3.10/site-packages (from requests->transformers) (3.4)\n",
            "Requirement already satisfied: urllib3<3,>=1.21.1 in /opt/mamba/lib/python3.10/site-packages (from requests->transformers) (1.26.18)\n",
            "Requirement already satisfied: certifi>=2017.4.17 in /opt/mamba/lib/python3.10/site-packages (from requests->transformers) (2023.11.17)\n",
            "Requirement already satisfied: MarkupSafe>=2.1.1 in /opt/mamba/lib/python3.10/site-packages (from Werkzeug<3.1->dash) (2.1.3)\n",
            "Requirement already satisfied: zipp>=0.5 in /opt/mamba/lib/python3.10/site-packages (from importlib-metadata->dash) (3.17.0)\n",
            "Requirement already satisfied: cachetools<6.0,>=2.0.0 in /opt/mamba/lib/python3.10/site-packages (from google-auth<3,>=1.6.3->tensorboard<2.16,>=2.15->tensorflow) (5.3.2)\n",
            "Requirement already satisfied: pyasn1-modules>=0.2.1 in /opt/mamba/lib/python3.10/site-packages (from google-auth<3,>=1.6.3->tensorboard<2.16,>=2.15->tensorflow) (0.3.0)\n",
            "Requirement already satisfied: rsa<5,>=3.1.4 in /opt/mamba/lib/python3.10/site-packages (from google-auth<3,>=1.6.3->tensorboard<2.16,>=2.15->tensorflow) (4.9)\n",
            "Requirement already satisfied: requests-oauthlib>=0.7.0 in /opt/mamba/lib/python3.10/site-packages (from google-auth-oauthlib<2,>=0.5->tensorboard<2.16,>=2.15->tensorflow) (1.3.1)\n",
            "Requirement already satisfied: pyasn1<0.6.0,>=0.4.6 in /opt/mamba/lib/python3.10/site-packages (from pyasn1-modules>=0.2.1->google-auth<3,>=1.6.3->tensorboard<2.16,>=2.15->tensorflow) (0.5.1)\n",
            "Requirement already satisfied: oauthlib>=3.0.0 in /opt/mamba/lib/python3.10/site-packages (from requests-oauthlib>=0.7.0->google-auth-oauthlib<2,>=0.5->tensorboard<2.16,>=2.15->tensorflow) (3.2.2)\n",
            "Note: you may need to restart the kernel to use updated packages.\n"
          ]
        }
      ],
      "source": [
        "%pip install transformers pandas tqdm scikit-learn imageio matplotlib wget plotly dash unidecode tensorflow"
      ]
    },
    {
      "cell_type": "code",
      "execution_count": 292,
      "metadata": {
        "id": "OizAr-8tBUDx"
      },
      "outputs": [],
      "source": [
        "from transformers import CLIPProcessor, CLIPModel,CLIPFeatureExtractor\n",
        "import pandas as pd\n",
        "import re\n",
        "from sklearn.model_selection import train_test_split\n",
        "from sklearn.preprocessing import LabelEncoder\n",
        "import numpy as np\n",
        "\n",
        "import torch\n",
        "import torch.nn as nn\n",
        "import torch.optim as optim\n",
        "\n",
        "from torch.utils.data import Dataset, DataLoader\n",
        "from torch.optim import lr_scheduler\n",
        "import torchvision\n",
        "\n",
        "import imageio\n",
        "\n",
        "from tqdm.notebook import tqdm\n",
        "from sklearn.preprocessing import OneHotEncoder\n",
        "\n",
        "from sklearn.metrics import f1_score\n",
        "\n",
        "import zipfile\n",
        "import os\n",
        "import copy\n",
        "\n",
        "import matplotlib.pyplot as plt\n",
        "import plotly.graph_objects as go\n",
        "from plotly.subplots import make_subplots\n",
        "import plotly.express as px\n",
        "\n",
        "from datetime import datetime\n",
        "import unidecode\n",
        "\n",
        "from tensorflow.keras.preprocessing.text import Tokenizer\n",
        "from tensorflow.keras.preprocessing.sequence import pad_sequences\n",
        "\n",
        "\n"
      ]
    },
    {
      "cell_type": "code",
      "execution_count": 293,
      "metadata": {},
      "outputs": [],
      "source": [
        "if google_colab:\n",
        "    # mount the drive where your dataset is availabledevice = torch.device(\"cuda:0\" if torch.cuda.is_available() else \"cpu\")\n",
        "    from google.colab import drive\n",
        "    drive.mount('/content/drive')\n",
        "    filepath='/content/drive/MyDrive/datasets/multimodal_product_classification/' # add your own path. Where to save the dataset\n",
        "\n",
        "    if not os.path.exists('datasets'):\n",
        "        os.makedirs('datasets')\n",
        "        with zipfile.ZipFile(filepath+images_name+'.zip', 'r') as zip_ref:\n",
        "            zip_ref.extractall('datasets')\n",
        "\n",
        "    datasets_path=\"/content/datasets/\"\n",
        "    save_directory=\"/content/drive/MyDrive/Lessons/Models/multimodal_classification/\"\n",
        "\n",
        "else:\n",
        "    import wget\n",
        "    if not os.path.exists('datasets'):\n",
        "        os.makedirs('datasets')\n",
        "        output_directory=\"datasets\"\n",
        "        csv_zip = wget.download(\"https://nextcloud.its-tps.fr/s/BTpB4SC93NreZxg/download/csv_data.zip\",out=output_directory)\n",
        "        if use_cropped:\n",
        "            images_zip=wget.download(\"https://nextcloud.its-tps.fr/s/8dZMpfpDNnpaZ5P/download/cropped_images.zip\",out=output_directory)\n",
        "        else:\n",
        "            images_zip=wget.download(\"https://nextcloud.its-tps.fr/s/fgBxQczEAZ7ws8J/download/images.zip\",out=output_directory)\n",
        "        with zipfile.ZipFile(output_directory+'/csv_data.zip', 'r') as zip_ref:\n",
        "            zip_ref.extractall('datasets')\n",
        "        with zipfile.ZipFile(output_directory+'/'+images_name+'.zip', 'r') as zip_ref:\n",
        "            zip_ref.extractall('datasets')\n",
        "    filepath=os.getcwd()+'/datasets/'\n",
        "    save_directory='../models/'\n",
        "    datasets_path=filepath\n"
      ]
    },
    {
      "cell_type": "code",
      "execution_count": 294,
      "metadata": {
        "id": "VuML9NpyBXKS"
      },
      "outputs": [],
      "source": [
        "if force_cpu:\n",
        "    device = torch.device(\"cpu\")\n",
        "else:\n",
        "    device = torch.device(\"cuda:0\" if torch.cuda.is_available() else \"cpu\")\n"
      ]
    },
    {
      "cell_type": "markdown",
      "metadata": {
        "id": "U5JZcRydJSq-"
      },
      "source": [
        "# Preprocessing"
      ]
    },
    {
      "cell_type": "code",
      "execution_count": 295,
      "metadata": {
        "id": "JzDGmO-0C-lt"
      },
      "outputs": [],
      "source": [
        "# Load data\n",
        "X_train = pd.read_csv(filepath+'X_train.csv').fillna(\"\")\n",
        "y_train = pd.read_csv(filepath+'Y_train.csv').fillna(\"\")\n",
        "X_train=X_train.drop(columns=\"Unnamed: 0\")\n",
        "y_train=y_train.drop(columns=\"Unnamed: 0\")\n",
        "\n",
        "\n",
        "# Cleaning and Preprocessing Text\n",
        "CLEANR = re.compile('<.*?>') # delete html tag\n",
        "def clean_html(raw_html):\n",
        "  cleantext = re.sub(CLEANR, '', raw_html)\n",
        "  return cleantext\n",
        "\n",
        "def clean_text(text):\n",
        "    text=clean_html(text)\n",
        "    # Remove special characters and numbers\n",
        "    text = unidecode.unidecode(text)\n",
        "    text = re.sub(r'[^a-zA-ZäöüßÄÖÜ ]', '', text)\n",
        "    # Convert text to lowercase\n",
        "    text = text.lower()\n",
        "    return text\n",
        "    \n",
        "# Apply cleaning function to the 'designation' column\n",
        "X_train['designation'] = X_train['designation'].fillna('').apply(clean_text)\n",
        "X_train['description'] = X_train['description'].fillna('').apply(clean_text)\n",
        "\n"
      ]
    },
    {
      "cell_type": "code",
      "execution_count": 296,
      "metadata": {},
      "outputs": [
        {
          "name": "stdout",
          "output_type": "stream",
          "text": [
            "67465\n"
          ]
        }
      ],
      "source": [
        "tokenizer = Tokenizer()\n",
        "tokenizer.fit_on_texts(X_train['designation'])\n",
        "vocab_size = len(tokenizer.word_index) + 1\n",
        "print(vocab_size)# nearly 70 000 of vocab size, it seems too much"
      ]
    },
    {
      "cell_type": "code",
      "execution_count": 297,
      "metadata": {
        "colab": {
          "base_uri": "https://localhost:8080/",
          "height": 630,
          "referenced_widgets": [
            "aca90a8114af4cf59745c0c5a8c9bb4b",
            "e59ac1cdcd0042bf89280947aa42838e",
            "537fba73213f4f19a3d4550fe0b07df5",
            "2fdb30a1fa4d4b03a7ab7b2cbfdc8520",
            "742ac6fbb6504ec083ba80627658649e",
            "b6ee36d3e52040958b3d0e06fb73e734",
            "3b9a8b0a567848bfb966de8d5d10ee56",
            "014f0c7b6b1644eab1b611cec816cdae",
            "d54417fb5eea4be083b94f5034dd8a89",
            "bb0331535d3649baab3aa26656652e74",
            "8ec1ac15b9df4ceea08190b0b44f6f76"
          ]
        },
        "id": "wwKmYYvG17Gt",
        "outputId": "a04ea31f-53c7-4381-fb07-b5a66da6a4ea"
      },
      "outputs": [
        {
          "data": {
            "application/vnd.jupyter.widget-view+json": {
              "model_id": "f5fe1a7eb6d94b0c9bd9e2b82fbe0204",
              "version_major": 2,
              "version_minor": 0
            },
            "text/plain": [
              "0it [00:00, ?it/s]"
            ]
          },
          "metadata": {},
          "output_type": "display_data"
        },
        {
          "data": {
            "text/html": [
              "<div>\n",
              "<style scoped>\n",
              "    .dataframe tbody tr th:only-of-type {\n",
              "        vertical-align: middle;\n",
              "    }\n",
              "\n",
              "    .dataframe tbody tr th {\n",
              "        vertical-align: top;\n",
              "    }\n",
              "\n",
              "    .dataframe thead th {\n",
              "        text-align: right;\n",
              "    }\n",
              "</style>\n",
              "<table border=\"1\" class=\"dataframe\">\n",
              "  <thead>\n",
              "    <tr style=\"text-align: right;\">\n",
              "      <th></th>\n",
              "      <th>designation</th>\n",
              "      <th>description</th>\n",
              "      <th>productid</th>\n",
              "      <th>imageid</th>\n",
              "      <th>labels</th>\n",
              "    </tr>\n",
              "  </thead>\n",
              "  <tbody>\n",
              "    <tr>\n",
              "      <th>0</th>\n",
              "      <td>olivia personalisiertes notizbuch   seiten  pu...</td>\n",
              "      <td></td>\n",
              "      <td>3804725264</td>\n",
              "      <td>1263597046</td>\n",
              "      <td>[True, False, False, False, False, False, Fals...</td>\n",
              "    </tr>\n",
              "    <tr>\n",
              "      <th>1</th>\n",
              "      <td>journal des arts le ndeg  du   lart et son mar...</td>\n",
              "      <td></td>\n",
              "      <td>436067568</td>\n",
              "      <td>1008141237</td>\n",
              "      <td>[False, False, False, False, False, False, Fal...</td>\n",
              "    </tr>\n",
              "    <tr>\n",
              "      <th>2</th>\n",
              "      <td>grand stylet ergonomique bleu gamepad nintendo...</td>\n",
              "      <td>pilot style touch pen de marque speedlink est ...</td>\n",
              "      <td>201115110</td>\n",
              "      <td>938777978</td>\n",
              "      <td>[False, False, True, False, False, False, Fals...</td>\n",
              "    </tr>\n",
              "    <tr>\n",
              "      <th>3</th>\n",
              "      <td>peluche donald  europe  disneyland  marionnett...</td>\n",
              "      <td></td>\n",
              "      <td>50418756</td>\n",
              "      <td>457047496</td>\n",
              "      <td>[False, False, False, False, False, False, Fal...</td>\n",
              "    </tr>\n",
              "    <tr>\n",
              "      <th>4</th>\n",
              "      <td>la guerre des tuques</td>\n",
              "      <td>luc a des ideacutees de grandeur il veut organ...</td>\n",
              "      <td>278535884</td>\n",
              "      <td>1077757786</td>\n",
              "      <td>[False, False, False, False, False, False, Fal...</td>\n",
              "    </tr>\n",
              "    <tr>\n",
              "      <th>...</th>\n",
              "      <td>...</td>\n",
              "      <td>...</td>\n",
              "      <td>...</td>\n",
              "      <td>...</td>\n",
              "      <td>...</td>\n",
              "    </tr>\n",
              "    <tr>\n",
              "      <th>84911</th>\n",
              "      <td>the sims  import anglais</td>\n",
              "      <td></td>\n",
              "      <td>206719094</td>\n",
              "      <td>941495734</td>\n",
              "      <td>[False, True, False, False, False, False, Fals...</td>\n",
              "    </tr>\n",
              "    <tr>\n",
              "      <th>84912</th>\n",
              "      <td>kit piscine acier nevada deco pierre o m x m</td>\n",
              "      <td>description complete kit piscine horssol toi p...</td>\n",
              "      <td>3065095706</td>\n",
              "      <td>1188462883</td>\n",
              "      <td>[False, False, False, False, False, False, Fal...</td>\n",
              "    </tr>\n",
              "    <tr>\n",
              "      <th>84913</th>\n",
              "      <td>journal officiel de la republique francaise nd...</td>\n",
              "      <td></td>\n",
              "      <td>440707564</td>\n",
              "      <td>1009325617</td>\n",
              "      <td>[False, False, False, False, False, False, Fal...</td>\n",
              "    </tr>\n",
              "    <tr>\n",
              "      <th>84914</th>\n",
              "      <td>table basse bois de recuperation massif base b...</td>\n",
              "      <td>cette table basse a un design unique et consti...</td>\n",
              "      <td>3942400296</td>\n",
              "      <td>1267353403</td>\n",
              "      <td>[False, False, False, False, False, False, Fal...</td>\n",
              "    </tr>\n",
              "    <tr>\n",
              "      <th>84915</th>\n",
              "      <td>gomme de collection  gommes pinguin glace vert...</td>\n",
              "      <td></td>\n",
              "      <td>57203227</td>\n",
              "      <td>684671297</td>\n",
              "      <td>[False, False, False, False, False, False, Fal...</td>\n",
              "    </tr>\n",
              "  </tbody>\n",
              "</table>\n",
              "<p>84916 rows × 5 columns</p>\n",
              "</div>"
            ],
            "text/plain": [
              "                                             designation  \\\n",
              "0      olivia personalisiertes notizbuch   seiten  pu...   \n",
              "1      journal des arts le ndeg  du   lart et son mar...   \n",
              "2      grand stylet ergonomique bleu gamepad nintendo...   \n",
              "3      peluche donald  europe  disneyland  marionnett...   \n",
              "4                                   la guerre des tuques   \n",
              "...                                                  ...   \n",
              "84911                          the sims  import anglais    \n",
              "84912       kit piscine acier nevada deco pierre o m x m   \n",
              "84913  journal officiel de la republique francaise nd...   \n",
              "84914  table basse bois de recuperation massif base b...   \n",
              "84915  gomme de collection  gommes pinguin glace vert...   \n",
              "\n",
              "                                             description   productid  \\\n",
              "0                                                         3804725264   \n",
              "1                                                          436067568   \n",
              "2      pilot style touch pen de marque speedlink est ...   201115110   \n",
              "3                                                           50418756   \n",
              "4      luc a des ideacutees de grandeur il veut organ...   278535884   \n",
              "...                                                  ...         ...   \n",
              "84911                                                      206719094   \n",
              "84912  description complete kit piscine horssol toi p...  3065095706   \n",
              "84913                                                      440707564   \n",
              "84914  cette table basse a un design unique et consti...  3942400296   \n",
              "84915                                                       57203227   \n",
              "\n",
              "          imageid                                             labels  \n",
              "0      1263597046  [True, False, False, False, False, False, Fals...  \n",
              "1      1008141237  [False, False, False, False, False, False, Fal...  \n",
              "2       938777978  [False, False, True, False, False, False, Fals...  \n",
              "3       457047496  [False, False, False, False, False, False, Fal...  \n",
              "4      1077757786  [False, False, False, False, False, False, Fal...  \n",
              "...           ...                                                ...  \n",
              "84911   941495734  [False, True, False, False, False, False, Fals...  \n",
              "84912  1188462883  [False, False, False, False, False, False, Fal...  \n",
              "84913  1009325617  [False, False, False, False, False, False, Fal...  \n",
              "84914  1267353403  [False, False, False, False, False, False, Fal...  \n",
              "84915   684671297  [False, False, False, False, False, False, Fal...  \n",
              "\n",
              "[84916 rows x 5 columns]"
            ]
          },
          "execution_count": 297,
          "metadata": {},
          "output_type": "execute_result"
        }
      ],
      "source": [
        "encoded_df=pd.get_dummies(y_train, columns=['prdtypecode'])\n",
        "y_train_categorical = encoded_df.values.tolist()\n",
        "length=len(y_train_categorical)\n",
        "y_train_one_hot=pd.DataFrame(np.zeros((length,1),dtype=list),columns=[\"labels\"])\n",
        "for index,row in tqdm(enumerate(y_train_categorical)):\n",
        "    y_train_one_hot.loc[index, \"labels\"]=row\n",
        "train_df=pd.concat([X_train,y_train_one_hot],axis=1)\n",
        "train_df"
      ]
    },
    {
      "cell_type": "code",
      "execution_count": 298,
      "metadata": {
        "colab": {
          "base_uri": "https://localhost:8080/",
          "height": 424
        },
        "id": "rEah0I2NBqsH",
        "outputId": "ac49925c-44d4-4720-da1c-a59ab11c3972"
      },
      "outputs": [
        {
          "data": {
            "text/html": [
              "<div>\n",
              "<style scoped>\n",
              "    .dataframe tbody tr th:only-of-type {\n",
              "        vertical-align: middle;\n",
              "    }\n",
              "\n",
              "    .dataframe tbody tr th {\n",
              "        vertical-align: top;\n",
              "    }\n",
              "\n",
              "    .dataframe thead th {\n",
              "        text-align: right;\n",
              "    }\n",
              "</style>\n",
              "<table border=\"1\" class=\"dataframe\">\n",
              "  <thead>\n",
              "    <tr style=\"text-align: right;\">\n",
              "      <th></th>\n",
              "      <th>prdtypecode</th>\n",
              "    </tr>\n",
              "  </thead>\n",
              "  <tbody>\n",
              "    <tr>\n",
              "      <th>0</th>\n",
              "      <td>10</td>\n",
              "    </tr>\n",
              "    <tr>\n",
              "      <th>1</th>\n",
              "      <td>2280</td>\n",
              "    </tr>\n",
              "    <tr>\n",
              "      <th>2</th>\n",
              "      <td>50</td>\n",
              "    </tr>\n",
              "    <tr>\n",
              "      <th>3</th>\n",
              "      <td>1280</td>\n",
              "    </tr>\n",
              "    <tr>\n",
              "      <th>4</th>\n",
              "      <td>2705</td>\n",
              "    </tr>\n",
              "    <tr>\n",
              "      <th>...</th>\n",
              "      <td>...</td>\n",
              "    </tr>\n",
              "    <tr>\n",
              "      <th>84911</th>\n",
              "      <td>40</td>\n",
              "    </tr>\n",
              "    <tr>\n",
              "      <th>84912</th>\n",
              "      <td>2583</td>\n",
              "    </tr>\n",
              "    <tr>\n",
              "      <th>84913</th>\n",
              "      <td>2280</td>\n",
              "    </tr>\n",
              "    <tr>\n",
              "      <th>84914</th>\n",
              "      <td>1560</td>\n",
              "    </tr>\n",
              "    <tr>\n",
              "      <th>84915</th>\n",
              "      <td>2522</td>\n",
              "    </tr>\n",
              "  </tbody>\n",
              "</table>\n",
              "<p>84916 rows × 1 columns</p>\n",
              "</div>"
            ],
            "text/plain": [
              "       prdtypecode\n",
              "0               10\n",
              "1             2280\n",
              "2               50\n",
              "3             1280\n",
              "4             2705\n",
              "...            ...\n",
              "84911           40\n",
              "84912         2583\n",
              "84913         2280\n",
              "84914         1560\n",
              "84915         2522\n",
              "\n",
              "[84916 rows x 1 columns]"
            ]
          },
          "execution_count": 298,
          "metadata": {},
          "output_type": "execute_result"
        }
      ],
      "source": [
        "y_train"
      ]
    },
    {
      "cell_type": "code",
      "execution_count": 299,
      "metadata": {
        "colab": {
          "base_uri": "https://localhost:8080/"
        },
        "id": "3EGTCun_-iei",
        "outputId": "ef0bd44f-a7ff-4e81-9f05-07e9a6b7d31c"
      },
      "outputs": [
        {
          "data": {
            "text/plain": [
              "{0: 10,\n",
              " 18: 2280,\n",
              " 2: 50,\n",
              " 7: 1280,\n",
              " 25: 2705,\n",
              " 21: 2522,\n",
              " 22: 2582,\n",
              " 13: 1560,\n",
              " 8: 1281,\n",
              " 14: 1920,\n",
              " 19: 2403,\n",
              " 4: 1140,\n",
              " 23: 2583,\n",
              " 6: 1180,\n",
              " 9: 1300,\n",
              " 20: 2462,\n",
              " 5: 1160,\n",
              " 16: 2060,\n",
              " 1: 40,\n",
              " 3: 60,\n",
              " 12: 1320,\n",
              " 11: 1302,\n",
              " 17: 2220,\n",
              " 26: 2905,\n",
              " 24: 2585,\n",
              " 15: 1940,\n",
              " 10: 1301}"
            ]
          },
          "execution_count": 299,
          "metadata": {},
          "output_type": "execute_result"
        }
      ],
      "source": [
        "y_train_out=np.argmax(y_train_categorical,1)\n",
        "y_train_out\n",
        "label_dict={}\n",
        "i=0\n",
        "while len(label_dict)<27:\n",
        "    key=y_train_out[i]\n",
        "    if key not in label_dict.keys():\n",
        "        value=y_train['prdtypecode'][i]\n",
        "        label_dict[key] = value\n",
        "    i+=1\n",
        "\n",
        "label_dict"
      ]
    },
    {
      "cell_type": "markdown",
      "metadata": {
        "id": "9yrOg2yB3UUl"
      },
      "source": [
        "\n",
        "# Data loading"
      ]
    },
    {
      "cell_type": "code",
      "execution_count": 300,
      "metadata": {
        "id": "GlteYRPK6qk8"
      },
      "outputs": [],
      "source": [
        "def image_to_tensor(image):\n",
        "    img=torch.from_numpy(image).float()\n",
        "    out=img.permute(2,0,1)\n",
        "    return(out)"
      ]
    },
    {
      "cell_type": "code",
      "execution_count": 317,
      "metadata": {
        "id": "2Aq5ejkMivSe"
      },
      "outputs": [
        {
          "ename": "SyntaxError",
          "evalue": "expected 'else' after 'if' expression (1171257113.py, line 30)",
          "output_type": "error",
          "traceback": [
            "\u001b[0;36m  Cell \u001b[0;32mIn[317], line 30\u001b[0;36m\u001b[0m\n\u001b[0;31m    description_sequences=[elem[0] if len(elem)[0]>0  for elem in description_sequences]\u001b[0m\n\u001b[0m                           ^\u001b[0m\n\u001b[0;31mSyntaxError\u001b[0m\u001b[0;31m:\u001b[0m expected 'else' after 'if' expression\n"
          ]
        }
      ],
      "source": [
        "class ImageTextDataLoader(Dataset):\n",
        "    \"\"\"Title, Description and Image dataset.\"\"\"\n",
        "\n",
        "    def __init__(self, dataframe, image_dir):\n",
        "        \"\"\"\n",
        "        Arguments:\n",
        "            csv_file (string): Path to the csv file with annotations.\n",
        "            image_dir (string): Directory with all the images.\n",
        "        \"\"\"\n",
        "        self.df = dataframe\n",
        "        self.image_dir = image_dir\n",
        "\n",
        "    def __len__(self):\n",
        "        return len(self.df)\n",
        "\n",
        "    def __getitem__(self, idx):\n",
        "        if torch.is_tensor(idx):\n",
        "            idx = idx.tolist()\n",
        "\n",
        "        selected_df=self.df.iloc[idx]\n",
        "\n",
        "        image_name=\"image_\"+str(selected_df[\"imageid\"])+\"_product_\"+str(selected_df[\"productid\"])+\".jpg\"\n",
        "        filepath=os.path.join(self.image_dir,image_name)\n",
        "        image_arr = imageio.v3.imread(filepath)\n",
        "\n",
        "        designation_text=selected_df['designation']\n",
        "        description_text=selected_df['description']\n",
        "        if len(description_text)>10:\n",
        "            description_sequences = tokenizer.texts_to_sequences([description_text])\n",
        "\n",
        "            # Padding to max length of text\n",
        "            description = pad_sequences(description_sequences, maxlen=34)\n",
        "        else :description=torch.zeros((34,1))\n",
        "\n",
        "        designation_sequences = tokenizer.texts_to_sequences([designation_text])\n",
        "        # Padding to max length of text\n",
        "    \n",
        "        designation =pad_sequences(designation_sequences, maxlen=34)\n",
        "        print(designation)\n",
        "        print(designation.shape)\n",
        "        label=torch.tensor(selected_df['labels'], dtype=torch.float,device=device)\n",
        "      \n",
        "\n",
        "        return [designation,description,image_arr,label]\n"
      ]
    },
    {
      "cell_type": "code",
      "execution_count": null,
      "metadata": {},
      "outputs": [],
      "source": [
        "if use_cropped==True:\n",
        "    dataset=ImageTextDataLoader(train_df,datasets_path+\"/cropped_train\")\n",
        "else:\n",
        "    dataset=ImageTextDataLoader(train_df,datasets_path+\"/images/image_train\")\n"
      ]
    },
    {
      "cell_type": "code",
      "execution_count": null,
      "metadata": {
        "id": "w0eZPtjTBdoy"
      },
      "outputs": [],
      "source": [
        "train_size = int(train_percentage * len(dataset))\n",
        "valid_size = int(valid_percentage * len(dataset))\n",
        "test_size = len(dataset) - train_size - valid_size\n",
        "\n",
        "train_dataset, valid_dataset, test_dataset = torch.utils.data.random_split(dataset, [train_size, valid_size, test_size])\n",
        "train_dataloader = DataLoader(train_dataset, batch_size=BATCH_SIZE, shuffle=True)\n",
        "valid_dataloader = DataLoader(valid_dataset, batch_size=BATCH_SIZE, shuffle=True)\n",
        "test_dataloader = DataLoader(test_dataset, batch_size=BATCH_SIZE, shuffle=True)\n",
        "\n",
        "\n",
        "dataloaders={\n",
        "    'train':train_dataloader,\n",
        "    'val':valid_dataloader,\n",
        "    'test':test_dataloader\n",
        "    }\n"
      ]
    },
    {
      "cell_type": "markdown",
      "metadata": {},
      "source": [
        "# text model def"
      ]
    },
    {
      "cell_type": "code",
      "execution_count": null,
      "metadata": {},
      "outputs": [],
      "source": [
        "\n",
        "# Define the model\n",
        "class Text_model(nn.Module):\n",
        "    def __init__(self, vocab_size, embedding_dim, num_classes):\n",
        "        super(Text_model, self).__init__()\n",
        "        self.embedding = nn.Embedding(vocab_size, embedding_dim)\n",
        "        self.conv_blocks = nn.ModuleList([\n",
        "            nn.Conv2d(1, 512, (i, embedding_dim), padding=(0, 0))\n",
        "            for i in range(1,7)\n",
        "        ])\n",
        "        self.dropout = nn.Dropout(0.5)\n",
        "        self.fc = nn.Linear(512 * 6, CLIP_FEATURE_SIZE)\n",
        "        self.classif=nn.Linear(CLIP_FEATURE_SIZE,num_classes)\n",
        "\n",
        "    def forward(self, x):\n",
        "        x = self.embedding(x)\n",
        "        x = x.unsqueeze(1)  # Add channel dimension for Conv2d\n",
        "        conv_outputs = [nn.functional.relu(conv_block(x)).max(dim=3)[0].max(dim=2)[0] for conv_block in self.conv_blocks]# [0] to get only the values and not the indices ( in pos 1 )\n",
        "        x = torch.cat(conv_outputs, dim=1)\n",
        "        # Dense Layer\n",
        "\n",
        "        # Flatten Layer\n",
        "        x = x.view(x.size(0), -1)\n",
        "        # Dropout Layer\n",
        "        x = self.dropout(x)\n",
        "\n",
        "        x = self.fc(x)\n",
        "        x = self.classif(x)\n",
        "        return x\n"
      ]
    },
    {
      "cell_type": "code",
      "execution_count": null,
      "metadata": {},
      "outputs": [],
      "source": [
        "text_model = Text_model(VOCAB_SIZE, TEXT_EMBEDDING_DIM, NUM_CLASSES)\n"
      ]
    },
    {
      "cell_type": "code",
      "execution_count": null,
      "metadata": {},
      "outputs": [
        {
          "data": {
            "text/plain": [
              "Text_model(\n",
              "  (embedding): Embedding(67465, 300)\n",
              "  (conv_blocks): ModuleList(\n",
              "    (0): Conv2d(1, 512, kernel_size=(1, 300), stride=(1, 1))\n",
              "    (1): Conv2d(1, 512, kernel_size=(2, 300), stride=(1, 1))\n",
              "    (2): Conv2d(1, 512, kernel_size=(3, 300), stride=(1, 1))\n",
              "    (3): Conv2d(1, 512, kernel_size=(4, 300), stride=(1, 1))\n",
              "    (4): Conv2d(1, 512, kernel_size=(5, 300), stride=(1, 1))\n",
              "    (5): Conv2d(1, 512, kernel_size=(6, 300), stride=(1, 1))\n",
              "  )\n",
              "  (dropout): Dropout(p=0.5, inplace=False)\n",
              "  (fc): Linear(in_features=3072, out_features=768, bias=True)\n",
              "  (classif): Sequential()\n",
              ")"
            ]
          },
          "execution_count": 306,
          "metadata": {},
          "output_type": "execute_result"
        }
      ],
      "source": [
        "text_model.classif = nn.Sequential()#delete the classification head\n",
        "text_model.eval()"
      ]
    },
    {
      "cell_type": "code",
      "execution_count": null,
      "metadata": {
        "colab": {
          "base_uri": "https://localhost:8080/"
        },
        "id": "brauWX7T17qc",
        "outputId": "e02ac7d4-4d3a-472c-c5d4-67b037105e04"
      },
      "outputs": [
        {
          "name": "stderr",
          "output_type": "stream",
          "text": [
            "`text_config_dict` is provided which will be used to initialize `CLIPTextConfig`. The value `text_config[\"id2label\"]` will be overriden.\n",
            "`text_config_dict` is provided which will be used to initialize `CLIPTextConfig`. The value `text_config[\"bos_token_id\"]` will be overriden.\n",
            "`text_config_dict` is provided which will be used to initialize `CLIPTextConfig`. The value `text_config[\"eos_token_id\"]` will be overriden.\n"
          ]
        }
      ],
      "source": [
        "Clip_model = CLIPModel.from_pretrained(\"openai/clip-vit-large-patch14-336\").to(device)\n",
        "Clip_processor = CLIPProcessor.from_pretrained(\"openai/clip-vit-large-patch14-336\")"
      ]
    },
    {
      "cell_type": "code",
      "execution_count": null,
      "metadata": {
        "id": "zYVh0wEkxIk5"
      },
      "outputs": [],
      "source": [
        "def get_images_features(images):\n",
        "    inputs = Clip_processor(images=images, return_tensors=\"pt\").to(device)\n",
        "    image_features = Clip_model.get_image_features(**inputs).to(device)\n",
        "    del inputs\n",
        "    return(image_features)"
      ]
    },
    {
      "cell_type": "markdown",
      "metadata": {
        "id": "JLXeUaXTTFaz"
      },
      "source": [
        "# Model Definition"
      ]
    },
    {
      "cell_type": "code",
      "execution_count": null,
      "metadata": {
        "colab": {
          "base_uri": "https://localhost:8080/"
        },
        "id": "pN1444uuEtjV",
        "outputId": "ec25031d-568f-41f7-f5ee-3360f725c27b"
      },
      "outputs": [
        {
          "name": "stdout",
          "output_type": "stream",
          "text": [
            "cuda:0\n"
          ]
        }
      ],
      "source": [
        "print(Clip_model.device)"
      ]
    },
    {
      "cell_type": "code",
      "execution_count": null,
      "metadata": {
        "id": "iu40ABZ5IIGw"
      },
      "outputs": [],
      "source": [
        "class ClassificationHead(nn.Module):\n",
        "   def __init__(self, input_dim, num_classes):\n",
        "       super(ClassificationHead, self).__init__()\n",
        "\n",
        "       self.head=nn.Sequential(\n",
        "            nn.Dropout(p=0.5),\n",
        "            nn.Linear(input_dim,128),\n",
        "            nn.ReLU(),\n",
        "            nn.Linear(128,num_classes),\n",
        "       )\n",
        "\n",
        "   def forward(self, x):\n",
        "       x = self.head(x)\n",
        "       return (x)\n"
      ]
    },
    {
      "cell_type": "code",
      "execution_count": null,
      "metadata": {
        "id": "HjdJxsORONeH"
      },
      "outputs": [],
      "source": [
        "model=ClassificationHead(CLIP_FEATURE_SIZE**2,NUM_CLASSES).to(device)\n",
        "\n",
        "criterion = torch.nn.CrossEntropyLoss()\n",
        "\n",
        "# All parameters are being optimized\n",
        "optimizer = torch.optim.SGD(model.parameters(), lr=0.001, momentum=0.9)\n",
        "\n",
        "# Decay LR by a factor of 0.1 every 7 epochs\n",
        "exp_lr_scheduler = lr_scheduler.StepLR(optimizer, step_size=7, gamma=0.1)\n"
      ]
    },
    {
      "cell_type": "code",
      "execution_count": null,
      "metadata": {
        "id": "UwOt1mkYPCu8"
      },
      "outputs": [],
      "source": [
        "def calculate_weighted_f1_score(y_true, y_pred):\n",
        "  return f1_score(y_true, y_pred, average='weighted')"
      ]
    },
    {
      "cell_type": "code",
      "execution_count": null,
      "metadata": {
        "id": "VMebITPI-iem"
      },
      "outputs": [],
      "source": [
        "def plot_loss(train_losses,val_losses):\n",
        "   # Update data\n",
        "   with fig.batch_update():\n",
        "    epoch_range=list(range(len(val_losses)))\n",
        "    fig.data[0].x = epoch_range\n",
        "    fig.data[0].y = train_losses\n",
        "    fig.data[1].x = epoch_range\n",
        "    fig.data[1].y = val_losses\n",
        "\n"
      ]
    },
    {
      "cell_type": "code",
      "execution_count": null,
      "metadata": {
        "id": "b9oBYQSc-iem"
      },
      "outputs": [],
      "source": [
        "\n",
        "def train_model(model, criterion, optimizer, scheduler, num_epochs=15):\n",
        "    best_model_wts = copy.deepcopy(model.state_dict())\n",
        "    best_acc = 0.0\n",
        "    epoch_losses = {'train': [], 'val': []}\n",
        "    epoch_accs = {'train': [], 'val': []}\n",
        "    epoch=0\n",
        "    loop_on_epoch=tqdm(range(num_epochs),leave=False,position=0,ncols=800)\n",
        "    for epoch in loop_on_epoch:\n",
        "        loop_on_epoch.set_description(\"Train -> Loss: {:.4f} Acc: {:.4f} | Val -> {:.4f} Acc: {:.4f}\".format(epoch_losses[\"train\"][-1],epoch_accs[\"train\"][-1],epoch_losses[\"val\"][-1],epoch_accs[\"val\"][-1])if epoch>=1 else \"first epoch\")\n",
        "        # Each epoch has a training and validation phase\n",
        "        for phase in ['train', 'val']:\n",
        "            if phase == 'train':\n",
        "                model.train() # Set model to training mode\n",
        "            else:\n",
        "                model.eval() # Set model to evaluate mode\n",
        "\n",
        "            running_loss = 0.0\n",
        "            running_preds=np.array([])\n",
        "            running_labels=np.array([])\n",
        "\n",
        "\n",
        "            # Iterate over data.\n",
        "            loop_on_batch=tqdm(dataloaders[phase],position=1,leave=False,ncols=800)\n",
        "            for designation,description,image_arr,labels in loop_on_batch:\n",
        "                image_arr.to(device)\n",
        "                print(description)\n",
        "\n",
        "                description_features=[]\n",
        "                with torch.no_grad():\n",
        "                    for i in range(len(description)):\n",
        "                        #get the description that are not null\n",
        "                        if len(description[i])>=1:\n",
        "                            description_feature=text_model(description[i])\n",
        "                            description_features.append(description_feature)\n",
        "                        else:\n",
        "                            description_features.append([])\n",
        "                    images_features=get_images_features(image_arr).unsqueeze(2)\n",
        "                    designation_features=text_model(designation).unsqueeze(2)\n",
        "\n",
        "\n",
        "                    if len(description_features[0])>0:\n",
        "                        designation_features[0]=(designation_features[0]+description_features[0].unsqueeze(1))/2\n",
        "\n",
        "                    #HERE implement fusion model of designation, description and image_arr\n",
        "                    input_features=torch.matmul(images_features[0] , designation_features[0].T).flatten().to(device).unsqueeze(0)\n",
        "\n",
        "                    for i in range(1,images_features.size(dim=0)):\n",
        "                        # Perform the multiplication and append the result to the results array\n",
        "                        if len(description_features[i])>0:\n",
        "                            designation_features[i]=(designation_features[i]+description_features[i].unsqueeze(1))/2\n",
        "\n",
        "                        feature_interaction_matrix=torch.matmul(images_features[i], designation_features[i].T)\n",
        "                        input_feature=(feature_interaction_matrix).flatten().to(device)\n",
        "                        input_features = torch.cat((input_features, input_feature.unsqueeze(0)), dim=0)\n",
        "\n",
        "\n",
        "                labels = labels.to(device)\n",
        "\n",
        "                # zero the parameter gradients\n",
        "                optimizer.zero_grad()\n",
        "\n",
        "                # forward\n",
        "                # track history if only in train\n",
        "                with torch.set_grad_enabled(phase == 'train'):\n",
        "                    preds = model(input_features)\n",
        "                    loss = criterion(preds, labels)\n",
        "\n",
        "                # backward + optimize only if in training phase\n",
        "                if phase == 'train':\n",
        "                    loss.backward()\n",
        "                    optimizer.step()\n",
        "                # statistics\n",
        "\n",
        "                running_loss += loss.item() * len(designation)#batch size*actual loss\n",
        "                running_batch_pred=np.argmax(preds.cpu().detach().numpy(),axis=1)\n",
        "                running_batch_label=np.argmax(labels.data.cpu().numpy(),axis=1)\n",
        "                running_preds=np.append(running_preds,running_batch_pred)\n",
        "                running_labels=np.append(running_labels,running_batch_label)\n",
        "\n",
        "                loop_on_batch.set_description('     {}| Loss: {:.4f}'.format(phase, loss.item()))\n",
        "\n",
        "\n",
        "            #End of phase Epoch (train or validation)\n",
        "\n",
        "            epoch_loss = running_loss / len(dataloaders[phase].dataset)\n",
        "            epoch_acc=calculate_weighted_f1_score(running_preds,running_labels)\n",
        "\n",
        "            epoch_losses[phase]=np.append(epoch_losses[phase],epoch_loss)\n",
        "            epoch_accs[phase]=np.append(epoch_accs[phase],epoch_acc)\n",
        "\n",
        "            if phase == 'train':\n",
        "                scheduler.step()\n",
        "\n",
        "        #End of Epoch (train+validation epoch)\n",
        "        plot_loss(epoch_losses[\"train\"],epoch_losses[\"val\"])#plot the loss at each epoch\n",
        "\n",
        "        if epoch==10: #Unfreeze the model after the 10th epoch\n",
        "            for param in model.parameters():\n",
        "                param.requires_grad = True\n",
        "        # deep copy the model\n",
        "        if phase == 'val' and epoch_acc > best_acc:\n",
        "\n",
        "            best_acc = epoch_acc\n",
        "            best_model_wts = copy.deepcopy(model.state_dict())\n",
        "            torch.save(model.state_dict(), save_directory +'clip3-'+datetime.today().strftime('%Y-%m-%d-')+str(epoch)+'.ckpt')\n",
        "\n",
        "\n",
        "    print('Best val Acc: {:4f}'.format(best_acc))\n",
        "    # load best model weights\n",
        "    model.load_state_dict(best_model_wts)\n",
        "    return model, epoch_losses, epoch_accs"
      ]
    },
    {
      "cell_type": "code",
      "execution_count": null,
      "metadata": {
        "colab": {
          "base_uri": "https://localhost:8080/",
          "height": 17,
          "referenced_widgets": [
            "706e9755fefc4af4837b7841bb84afb2"
          ]
        },
        "id": "ecBOb2n4-ien",
        "outputId": "34da0bf7-b1ec-465b-9402-5cbef03e9da2"
      },
      "outputs": [
        {
          "data": {
            "application/vnd.jupyter.widget-view+json": {
              "model_id": "39fc3399240642b19e12a88a350d76f7",
              "version_major": 2,
              "version_minor": 0
            },
            "text/plain": [
              "FigureWidget({\n",
              "    'data': [{'mode': 'lines',\n",
              "              'name': 'Training Loss',\n",
              "              'type': 'scatter',\n",
              "              'uid': '4c1eae47-5436-454a-9d64-4085216a7aa4',\n",
              "              'x': [],\n",
              "              'y': []},\n",
              "             {'mode': 'lines',\n",
              "              'name': 'Validation Loss',\n",
              "              'type': 'scatter',\n",
              "              'uid': 'bac79f15-3b7b-4a57-a3a9-6fe99fa42b3b',\n",
              "              'x': [],\n",
              "              'y': []}],\n",
              "    'layout': {'template': '...', 'title': {'text': 'Training and Validation Loss'}}\n",
              "})"
            ]
          },
          "execution_count": 315,
          "metadata": {},
          "output_type": "execute_result"
        }
      ],
      "source": [
        "fig = go.FigureWidget()\n",
        "\n",
        "# Add traces\n",
        "fig.add_scatter(x=[], y=[], mode='lines', name='Training Loss')\n",
        "fig.add_scatter(x=[], y=[], mode='lines', name='Validation Loss')\n",
        "\n",
        "# Set titles and labels\n",
        "fig.layout.title=\"Training and Validation Loss\"\n",
        "# , xaxis_title=\"Epochs\", yaxis_title=\"Loss\")\n",
        "\n",
        "\n",
        "fig"
      ]
    },
    {
      "cell_type": "code",
      "execution_count": null,
      "metadata": {
        "colab": {
          "base_uri": "https://localhost:8080/",
          "height": 449,
          "referenced_widgets": [
            "564ca798a6a0436ea3f27a5f89f6428c",
            "a46c923a0d63433aafaaecc2bfd04084",
            "067bcb4b6255475a80f1d5e1f27e7392",
            "7c7df3ebbe074cea9a113ef2f10ea0ac",
            "92220d5be955480daafd56feec1979ed",
            "4a379ea867414ae88a8dc5938fbd1355",
            "009e5d195a85462daeeb585ed4d7d3a1",
            "0ef1275ad052416db1f3e777f5694715",
            "b6c81e60b5914480aa219d75ea4f2428",
            "a25e98c3ce954b119f9a58ab30f1b9b7",
            "f975a697681c44919c72c3a3d614a98d",
            "b5fe5c9e561841a9809be521c1cca76b",
            "e30679bbf4334714918dc3bbe43ff9a4",
            "807a8a8848324d22a400afaec8b4736c",
            "8afb5f848b194cf1a916de6f91ebaa5c",
            "104b291367ee4f1083bbc74e125390f8",
            "f861bee5ab6c4025937d758b9a446282",
            "fb9c802790ba4b9485a6cfbf0e2726a4",
            "c898b22bd8c34821912068c4012656fb",
            "71bcbac344254443be061c1930ed58a5",
            "e3b1e9ee0e494c559da85e8af4a8ee48",
            "4ead9172275344aa96231710ace902df"
          ]
        },
        "id": "VczsilPJJUoO",
        "outputId": "5a099032-3ee0-4ad5-9b08-3360cfc1bb6f"
      },
      "outputs": [
        {
          "data": {
            "application/vnd.jupyter.widget-view+json": {
              "model_id": "2450eecad33b4b4cbeeb227044e18cc2",
              "version_major": 2,
              "version_minor": 0
            },
            "text/plain": [
              "  0%|                                                                                                         …"
            ]
          },
          "metadata": {},
          "output_type": "display_data"
        },
        {
          "data": {
            "application/vnd.jupyter.widget-view+json": {
              "model_id": "bf42a581113645f78a0b1f90b9240f31",
              "version_major": 2,
              "version_minor": 0
            },
            "text/plain": [
              "  0%|                                                                                                         …"
            ]
          },
          "metadata": {},
          "output_type": "display_data"
        },
        {
          "ename": "IndexError",
          "evalue": "list index out of range",
          "output_type": "error",
          "traceback": [
            "\u001b[0;31m---------------------------------------------------------------------------\u001b[0m",
            "\u001b[0;31mIndexError\u001b[0m                                Traceback (most recent call last)",
            "\u001b[1;32m/home/onyxia/work/multimodal_product_data_classification/notebooks/gatien_fusion_model_clip4.2.ipynb Cell 37\u001b[0m line \u001b[0;36m1\n\u001b[0;32m----> <a href='vscode-notebook-cell://user-gatien-828885-0.user.lab.sspcloud.fr/home/onyxia/work/multimodal_product_data_classification/notebooks/gatien_fusion_model_clip4.2.ipynb#X50sdnNjb2RlLXJlbW90ZQ%3D%3D?line=0'>1</a>\u001b[0m train_model(model, criterion, optimizer,exp_lr_scheduler,num_epochs\u001b[39m=\u001b[39;49m\u001b[39m15\u001b[39;49m)\n",
            "\u001b[1;32m/home/onyxia/work/multimodal_product_data_classification/notebooks/gatien_fusion_model_clip4.2.ipynb Cell 37\u001b[0m line \u001b[0;36m2\n\u001b[1;32m     <a href='vscode-notebook-cell://user-gatien-828885-0.user.lab.sspcloud.fr/home/onyxia/work/multimodal_product_data_classification/notebooks/gatien_fusion_model_clip4.2.ipynb#X50sdnNjb2RlLXJlbW90ZQ%3D%3D?line=21'>22</a>\u001b[0m \u001b[39m# Iterate over data.\u001b[39;00m\n\u001b[1;32m     <a href='vscode-notebook-cell://user-gatien-828885-0.user.lab.sspcloud.fr/home/onyxia/work/multimodal_product_data_classification/notebooks/gatien_fusion_model_clip4.2.ipynb#X50sdnNjb2RlLXJlbW90ZQ%3D%3D?line=22'>23</a>\u001b[0m loop_on_batch\u001b[39m=\u001b[39mtqdm(dataloaders[phase],position\u001b[39m=\u001b[39m\u001b[39m1\u001b[39m,leave\u001b[39m=\u001b[39m\u001b[39mFalse\u001b[39;00m,ncols\u001b[39m=\u001b[39m\u001b[39m800\u001b[39m)\n\u001b[0;32m---> <a href='vscode-notebook-cell://user-gatien-828885-0.user.lab.sspcloud.fr/home/onyxia/work/multimodal_product_data_classification/notebooks/gatien_fusion_model_clip4.2.ipynb#X50sdnNjb2RlLXJlbW90ZQ%3D%3D?line=23'>24</a>\u001b[0m \u001b[39mfor\u001b[39;00m designation,description,image_arr,labels \u001b[39min\u001b[39;00m loop_on_batch:\n\u001b[1;32m     <a href='vscode-notebook-cell://user-gatien-828885-0.user.lab.sspcloud.fr/home/onyxia/work/multimodal_product_data_classification/notebooks/gatien_fusion_model_clip4.2.ipynb#X50sdnNjb2RlLXJlbW90ZQ%3D%3D?line=24'>25</a>\u001b[0m     image_arr\u001b[39m.\u001b[39mto(device)\n\u001b[1;32m     <a href='vscode-notebook-cell://user-gatien-828885-0.user.lab.sspcloud.fr/home/onyxia/work/multimodal_product_data_classification/notebooks/gatien_fusion_model_clip4.2.ipynb#X50sdnNjb2RlLXJlbW90ZQ%3D%3D?line=25'>26</a>\u001b[0m     \u001b[39mprint\u001b[39m(description)\n",
            "File \u001b[0;32m/opt/mamba/lib/python3.10/site-packages/tqdm/notebook.py:249\u001b[0m, in \u001b[0;36mtqdm_notebook.__iter__\u001b[0;34m(self)\u001b[0m\n\u001b[1;32m    247\u001b[0m \u001b[39mtry\u001b[39;00m:\n\u001b[1;32m    248\u001b[0m     it \u001b[39m=\u001b[39m \u001b[39msuper\u001b[39m(tqdm_notebook, \u001b[39mself\u001b[39m)\u001b[39m.\u001b[39m\u001b[39m__iter__\u001b[39m()\n\u001b[0;32m--> 249\u001b[0m     \u001b[39mfor\u001b[39;00m obj \u001b[39min\u001b[39;00m it:\n\u001b[1;32m    250\u001b[0m         \u001b[39m# return super(tqdm...) will not catch exception\u001b[39;00m\n\u001b[1;32m    251\u001b[0m         \u001b[39myield\u001b[39;00m obj\n\u001b[1;32m    252\u001b[0m \u001b[39m# NB: except ... [ as ...] breaks IPython async KeyboardInterrupt\u001b[39;00m\n",
            "File \u001b[0;32m/opt/mamba/lib/python3.10/site-packages/tqdm/std.py:1182\u001b[0m, in \u001b[0;36mtqdm.__iter__\u001b[0;34m(self)\u001b[0m\n\u001b[1;32m   1179\u001b[0m time \u001b[39m=\u001b[39m \u001b[39mself\u001b[39m\u001b[39m.\u001b[39m_time\n\u001b[1;32m   1181\u001b[0m \u001b[39mtry\u001b[39;00m:\n\u001b[0;32m-> 1182\u001b[0m     \u001b[39mfor\u001b[39;00m obj \u001b[39min\u001b[39;00m iterable:\n\u001b[1;32m   1183\u001b[0m         \u001b[39myield\u001b[39;00m obj\n\u001b[1;32m   1184\u001b[0m         \u001b[39m# Update and possibly print the progressbar.\u001b[39;00m\n\u001b[1;32m   1185\u001b[0m         \u001b[39m# Note: does not call self.update(1) for speed optimisation.\u001b[39;00m\n",
            "File \u001b[0;32m/opt/mamba/lib/python3.10/site-packages/torch/utils/data/dataloader.py:630\u001b[0m, in \u001b[0;36m_BaseDataLoaderIter.__next__\u001b[0;34m(self)\u001b[0m\n\u001b[1;32m    627\u001b[0m \u001b[39mif\u001b[39;00m \u001b[39mself\u001b[39m\u001b[39m.\u001b[39m_sampler_iter \u001b[39mis\u001b[39;00m \u001b[39mNone\u001b[39;00m:\n\u001b[1;32m    628\u001b[0m     \u001b[39m# TODO(https://github.com/pytorch/pytorch/issues/76750)\u001b[39;00m\n\u001b[1;32m    629\u001b[0m     \u001b[39mself\u001b[39m\u001b[39m.\u001b[39m_reset()  \u001b[39m# type: ignore[call-arg]\u001b[39;00m\n\u001b[0;32m--> 630\u001b[0m data \u001b[39m=\u001b[39m \u001b[39mself\u001b[39;49m\u001b[39m.\u001b[39;49m_next_data()\n\u001b[1;32m    631\u001b[0m \u001b[39mself\u001b[39m\u001b[39m.\u001b[39m_num_yielded \u001b[39m+\u001b[39m\u001b[39m=\u001b[39m \u001b[39m1\u001b[39m\n\u001b[1;32m    632\u001b[0m \u001b[39mif\u001b[39;00m \u001b[39mself\u001b[39m\u001b[39m.\u001b[39m_dataset_kind \u001b[39m==\u001b[39m _DatasetKind\u001b[39m.\u001b[39mIterable \u001b[39mand\u001b[39;00m \\\n\u001b[1;32m    633\u001b[0m         \u001b[39mself\u001b[39m\u001b[39m.\u001b[39m_IterableDataset_len_called \u001b[39mis\u001b[39;00m \u001b[39mnot\u001b[39;00m \u001b[39mNone\u001b[39;00m \u001b[39mand\u001b[39;00m \\\n\u001b[1;32m    634\u001b[0m         \u001b[39mself\u001b[39m\u001b[39m.\u001b[39m_num_yielded \u001b[39m>\u001b[39m \u001b[39mself\u001b[39m\u001b[39m.\u001b[39m_IterableDataset_len_called:\n",
            "File \u001b[0;32m/opt/mamba/lib/python3.10/site-packages/torch/utils/data/dataloader.py:674\u001b[0m, in \u001b[0;36m_SingleProcessDataLoaderIter._next_data\u001b[0;34m(self)\u001b[0m\n\u001b[1;32m    672\u001b[0m \u001b[39mdef\u001b[39;00m \u001b[39m_next_data\u001b[39m(\u001b[39mself\u001b[39m):\n\u001b[1;32m    673\u001b[0m     index \u001b[39m=\u001b[39m \u001b[39mself\u001b[39m\u001b[39m.\u001b[39m_next_index()  \u001b[39m# may raise StopIteration\u001b[39;00m\n\u001b[0;32m--> 674\u001b[0m     data \u001b[39m=\u001b[39m \u001b[39mself\u001b[39;49m\u001b[39m.\u001b[39;49m_dataset_fetcher\u001b[39m.\u001b[39;49mfetch(index)  \u001b[39m# may raise StopIteration\u001b[39;00m\n\u001b[1;32m    675\u001b[0m     \u001b[39mif\u001b[39;00m \u001b[39mself\u001b[39m\u001b[39m.\u001b[39m_pin_memory:\n\u001b[1;32m    676\u001b[0m         data \u001b[39m=\u001b[39m _utils\u001b[39m.\u001b[39mpin_memory\u001b[39m.\u001b[39mpin_memory(data, \u001b[39mself\u001b[39m\u001b[39m.\u001b[39m_pin_memory_device)\n",
            "File \u001b[0;32m/opt/mamba/lib/python3.10/site-packages/torch/utils/data/_utils/fetch.py:49\u001b[0m, in \u001b[0;36m_MapDatasetFetcher.fetch\u001b[0;34m(self, possibly_batched_index)\u001b[0m\n\u001b[1;32m     47\u001b[0m \u001b[39mif\u001b[39;00m \u001b[39mself\u001b[39m\u001b[39m.\u001b[39mauto_collation:\n\u001b[1;32m     48\u001b[0m     \u001b[39mif\u001b[39;00m \u001b[39mhasattr\u001b[39m(\u001b[39mself\u001b[39m\u001b[39m.\u001b[39mdataset, \u001b[39m\"\u001b[39m\u001b[39m__getitems__\u001b[39m\u001b[39m\"\u001b[39m) \u001b[39mand\u001b[39;00m \u001b[39mself\u001b[39m\u001b[39m.\u001b[39mdataset\u001b[39m.\u001b[39m__getitems__:\n\u001b[0;32m---> 49\u001b[0m         data \u001b[39m=\u001b[39m \u001b[39mself\u001b[39;49m\u001b[39m.\u001b[39;49mdataset\u001b[39m.\u001b[39;49m__getitems__(possibly_batched_index)\n\u001b[1;32m     50\u001b[0m     \u001b[39melse\u001b[39;00m:\n\u001b[1;32m     51\u001b[0m         data \u001b[39m=\u001b[39m [\u001b[39mself\u001b[39m\u001b[39m.\u001b[39mdataset[idx] \u001b[39mfor\u001b[39;00m idx \u001b[39min\u001b[39;00m possibly_batched_index]\n",
            "File \u001b[0;32m/opt/mamba/lib/python3.10/site-packages/torch/utils/data/dataset.py:364\u001b[0m, in \u001b[0;36mSubset.__getitems__\u001b[0;34m(self, indices)\u001b[0m\n\u001b[1;32m    362\u001b[0m     \u001b[39mreturn\u001b[39;00m \u001b[39mself\u001b[39m\u001b[39m.\u001b[39mdataset\u001b[39m.\u001b[39m__getitems__([\u001b[39mself\u001b[39m\u001b[39m.\u001b[39mindices[idx] \u001b[39mfor\u001b[39;00m idx \u001b[39min\u001b[39;00m indices])  \u001b[39m# type: ignore[attr-defined]\u001b[39;00m\n\u001b[1;32m    363\u001b[0m \u001b[39melse\u001b[39;00m:\n\u001b[0;32m--> 364\u001b[0m     \u001b[39mreturn\u001b[39;00m [\u001b[39mself\u001b[39m\u001b[39m.\u001b[39mdataset[\u001b[39mself\u001b[39m\u001b[39m.\u001b[39mindices[idx]] \u001b[39mfor\u001b[39;00m idx \u001b[39min\u001b[39;00m indices]\n",
            "File \u001b[0;32m/opt/mamba/lib/python3.10/site-packages/torch/utils/data/dataset.py:364\u001b[0m, in \u001b[0;36m<listcomp>\u001b[0;34m(.0)\u001b[0m\n\u001b[1;32m    362\u001b[0m     \u001b[39mreturn\u001b[39;00m \u001b[39mself\u001b[39m\u001b[39m.\u001b[39mdataset\u001b[39m.\u001b[39m__getitems__([\u001b[39mself\u001b[39m\u001b[39m.\u001b[39mindices[idx] \u001b[39mfor\u001b[39;00m idx \u001b[39min\u001b[39;00m indices])  \u001b[39m# type: ignore[attr-defined]\u001b[39;00m\n\u001b[1;32m    363\u001b[0m \u001b[39melse\u001b[39;00m:\n\u001b[0;32m--> 364\u001b[0m     \u001b[39mreturn\u001b[39;00m [\u001b[39mself\u001b[39;49m\u001b[39m.\u001b[39;49mdataset[\u001b[39mself\u001b[39;49m\u001b[39m.\u001b[39;49mindices[idx]] \u001b[39mfor\u001b[39;00m idx \u001b[39min\u001b[39;00m indices]\n",
            "\u001b[1;32m/home/onyxia/work/multimodal_product_data_classification/notebooks/gatien_fusion_model_clip4.2.ipynb Cell 37\u001b[0m line \u001b[0;36m3\n\u001b[1;32m     <a href='vscode-notebook-cell://user-gatien-828885-0.user.lab.sspcloud.fr/home/onyxia/work/multimodal_product_data_classification/notebooks/gatien_fusion_model_clip4.2.ipynb#X50sdnNjb2RlLXJlbW90ZQ%3D%3D?line=35'>36</a>\u001b[0m designation_sequences \u001b[39m=\u001b[39m tokenizer\u001b[39m.\u001b[39mtexts_to_sequences(designation_text)\n\u001b[1;32m     <a href='vscode-notebook-cell://user-gatien-828885-0.user.lab.sspcloud.fr/home/onyxia/work/multimodal_product_data_classification/notebooks/gatien_fusion_model_clip4.2.ipynb#X50sdnNjb2RlLXJlbW90ZQ%3D%3D?line=36'>37</a>\u001b[0m \u001b[39m# Padding to max length of text\u001b[39;00m\n\u001b[0;32m---> <a href='vscode-notebook-cell://user-gatien-828885-0.user.lab.sspcloud.fr/home/onyxia/work/multimodal_product_data_classification/notebooks/gatien_fusion_model_clip4.2.ipynb#X50sdnNjb2RlLXJlbW90ZQ%3D%3D?line=37'>38</a>\u001b[0m designation_sequences\u001b[39m=\u001b[39m[elem[\u001b[39m0\u001b[39m] \u001b[39mfor\u001b[39;00m elem \u001b[39min\u001b[39;00m designation_sequences]\n\u001b[1;32m     <a href='vscode-notebook-cell://user-gatien-828885-0.user.lab.sspcloud.fr/home/onyxia/work/multimodal_product_data_classification/notebooks/gatien_fusion_model_clip4.2.ipynb#X50sdnNjb2RlLXJlbW90ZQ%3D%3D?line=39'>40</a>\u001b[0m designation \u001b[39m=\u001b[39mpad_sequences(designation_sequences, maxlen\u001b[39m=\u001b[39m\u001b[39m34\u001b[39m)\n\u001b[1;32m     <a href='vscode-notebook-cell://user-gatien-828885-0.user.lab.sspcloud.fr/home/onyxia/work/multimodal_product_data_classification/notebooks/gatien_fusion_model_clip4.2.ipynb#X50sdnNjb2RlLXJlbW90ZQ%3D%3D?line=40'>41</a>\u001b[0m \u001b[39mprint\u001b[39m(designation)\n",
            "\u001b[1;32m/home/onyxia/work/multimodal_product_data_classification/notebooks/gatien_fusion_model_clip4.2.ipynb Cell 37\u001b[0m line \u001b[0;36m3\n\u001b[1;32m     <a href='vscode-notebook-cell://user-gatien-828885-0.user.lab.sspcloud.fr/home/onyxia/work/multimodal_product_data_classification/notebooks/gatien_fusion_model_clip4.2.ipynb#X50sdnNjb2RlLXJlbW90ZQ%3D%3D?line=35'>36</a>\u001b[0m designation_sequences \u001b[39m=\u001b[39m tokenizer\u001b[39m.\u001b[39mtexts_to_sequences(designation_text)\n\u001b[1;32m     <a href='vscode-notebook-cell://user-gatien-828885-0.user.lab.sspcloud.fr/home/onyxia/work/multimodal_product_data_classification/notebooks/gatien_fusion_model_clip4.2.ipynb#X50sdnNjb2RlLXJlbW90ZQ%3D%3D?line=36'>37</a>\u001b[0m \u001b[39m# Padding to max length of text\u001b[39;00m\n\u001b[0;32m---> <a href='vscode-notebook-cell://user-gatien-828885-0.user.lab.sspcloud.fr/home/onyxia/work/multimodal_product_data_classification/notebooks/gatien_fusion_model_clip4.2.ipynb#X50sdnNjb2RlLXJlbW90ZQ%3D%3D?line=37'>38</a>\u001b[0m designation_sequences\u001b[39m=\u001b[39m[elem[\u001b[39m0\u001b[39;49m] \u001b[39mfor\u001b[39;00m elem \u001b[39min\u001b[39;00m designation_sequences]\n\u001b[1;32m     <a href='vscode-notebook-cell://user-gatien-828885-0.user.lab.sspcloud.fr/home/onyxia/work/multimodal_product_data_classification/notebooks/gatien_fusion_model_clip4.2.ipynb#X50sdnNjb2RlLXJlbW90ZQ%3D%3D?line=39'>40</a>\u001b[0m designation \u001b[39m=\u001b[39mpad_sequences(designation_sequences, maxlen\u001b[39m=\u001b[39m\u001b[39m34\u001b[39m)\n\u001b[1;32m     <a href='vscode-notebook-cell://user-gatien-828885-0.user.lab.sspcloud.fr/home/onyxia/work/multimodal_product_data_classification/notebooks/gatien_fusion_model_clip4.2.ipynb#X50sdnNjb2RlLXJlbW90ZQ%3D%3D?line=40'>41</a>\u001b[0m \u001b[39mprint\u001b[39m(designation)\n",
            "\u001b[0;31mIndexError\u001b[0m: list index out of range"
          ]
        }
      ],
      "source": [
        " train_model(model, criterion, optimizer,exp_lr_scheduler,num_epochs=15)"
      ]
    }
  ],
  "metadata": {
    "accelerator": "GPU",
    "colab": {
      "gpuType": "T4",
      "include_colab_link": true,
      "provenance": []
    },
    "kernelspec": {
      "display_name": "Python 3",
      "name": "python3"
    },
    "language_info": {
      "codemirror_mode": {
        "name": "ipython",
        "version": 3
      },
      "file_extension": ".py",
      "mimetype": "text/x-python",
      "name": "python",
      "nbconvert_exporter": "python",
      "pygments_lexer": "ipython3",
      "version": "3.10.13"
    },
    "widgets": {
      "application/vnd.jupyter.widget-state+json": {
        "009e5d195a85462daeeb585ed4d7d3a1": {
          "model_module": "@jupyter-widgets/controls",
          "model_module_version": "1.5.0",
          "model_name": "DescriptionStyleModel",
          "state": {
            "_model_module": "@jupyter-widgets/controls",
            "_model_module_version": "1.5.0",
            "_model_name": "DescriptionStyleModel",
            "_view_count": null,
            "_view_module": "@jupyter-widgets/base",
            "_view_module_version": "1.2.0",
            "_view_name": "StyleView",
            "description_width": ""
          }
        },
        "014f0c7b6b1644eab1b611cec816cdae": {
          "model_module": "@jupyter-widgets/base",
          "model_module_version": "1.2.0",
          "model_name": "LayoutModel",
          "state": {
            "_model_module": "@jupyter-widgets/base",
            "_model_module_version": "1.2.0",
            "_model_name": "LayoutModel",
            "_view_count": null,
            "_view_module": "@jupyter-widgets/base",
            "_view_module_version": "1.2.0",
            "_view_name": "LayoutView",
            "align_content": null,
            "align_items": null,
            "align_self": null,
            "border": null,
            "bottom": null,
            "display": null,
            "flex": null,
            "flex_flow": null,
            "grid_area": null,
            "grid_auto_columns": null,
            "grid_auto_flow": null,
            "grid_auto_rows": null,
            "grid_column": null,
            "grid_gap": null,
            "grid_row": null,
            "grid_template_areas": null,
            "grid_template_columns": null,
            "grid_template_rows": null,
            "height": null,
            "justify_content": null,
            "justify_items": null,
            "left": null,
            "margin": null,
            "max_height": null,
            "max_width": null,
            "min_height": null,
            "min_width": null,
            "object_fit": null,
            "object_position": null,
            "order": null,
            "overflow": null,
            "overflow_x": null,
            "overflow_y": null,
            "padding": null,
            "right": null,
            "top": null,
            "visibility": null,
            "width": "20px"
          }
        },
        "067bcb4b6255475a80f1d5e1f27e7392": {
          "model_module": "@jupyter-widgets/controls",
          "model_module_version": "1.5.0",
          "model_name": "FloatProgressModel",
          "state": {
            "_dom_classes": [],
            "_model_module": "@jupyter-widgets/controls",
            "_model_module_version": "1.5.0",
            "_model_name": "FloatProgressModel",
            "_view_count": null,
            "_view_module": "@jupyter-widgets/controls",
            "_view_module_version": "1.5.0",
            "_view_name": "ProgressView",
            "bar_style": "danger",
            "description": "",
            "description_tooltip": null,
            "layout": "IPY_MODEL_0ef1275ad052416db1f3e777f5694715",
            "max": 15,
            "min": 0,
            "orientation": "horizontal",
            "style": "IPY_MODEL_b6c81e60b5914480aa219d75ea4f2428",
            "value": 0
          }
        },
        "0ef1275ad052416db1f3e777f5694715": {
          "model_module": "@jupyter-widgets/base",
          "model_module_version": "1.2.0",
          "model_name": "LayoutModel",
          "state": {
            "_model_module": "@jupyter-widgets/base",
            "_model_module_version": "1.2.0",
            "_model_name": "LayoutModel",
            "_view_count": null,
            "_view_module": "@jupyter-widgets/base",
            "_view_module_version": "1.2.0",
            "_view_name": "LayoutView",
            "align_content": null,
            "align_items": null,
            "align_self": null,
            "border": null,
            "bottom": null,
            "display": null,
            "flex": "2",
            "flex_flow": null,
            "grid_area": null,
            "grid_auto_columns": null,
            "grid_auto_flow": null,
            "grid_auto_rows": null,
            "grid_column": null,
            "grid_gap": null,
            "grid_row": null,
            "grid_template_areas": null,
            "grid_template_columns": null,
            "grid_template_rows": null,
            "height": null,
            "justify_content": null,
            "justify_items": null,
            "left": null,
            "margin": null,
            "max_height": null,
            "max_width": null,
            "min_height": null,
            "min_width": null,
            "object_fit": null,
            "object_position": null,
            "order": null,
            "overflow": null,
            "overflow_x": null,
            "overflow_y": null,
            "padding": null,
            "right": null,
            "top": null,
            "visibility": null,
            "width": null
          }
        },
        "104b291367ee4f1083bbc74e125390f8": {
          "model_module": "@jupyter-widgets/base",
          "model_module_version": "1.2.0",
          "model_name": "LayoutModel",
          "state": {
            "_model_module": "@jupyter-widgets/base",
            "_model_module_version": "1.2.0",
            "_model_name": "LayoutModel",
            "_view_count": null,
            "_view_module": "@jupyter-widgets/base",
            "_view_module_version": "1.2.0",
            "_view_name": "LayoutView",
            "align_content": null,
            "align_items": null,
            "align_self": null,
            "border": null,
            "bottom": null,
            "display": "inline-flex",
            "flex": null,
            "flex_flow": "row wrap",
            "grid_area": null,
            "grid_auto_columns": null,
            "grid_auto_flow": null,
            "grid_auto_rows": null,
            "grid_column": null,
            "grid_gap": null,
            "grid_row": null,
            "grid_template_areas": null,
            "grid_template_columns": null,
            "grid_template_rows": null,
            "height": null,
            "justify_content": null,
            "justify_items": null,
            "left": null,
            "margin": null,
            "max_height": null,
            "max_width": null,
            "min_height": null,
            "min_width": null,
            "object_fit": null,
            "object_position": null,
            "order": null,
            "overflow": null,
            "overflow_x": null,
            "overflow_y": null,
            "padding": null,
            "right": null,
            "top": null,
            "visibility": null,
            "width": "800px"
          }
        },
        "2fdb30a1fa4d4b03a7ab7b2cbfdc8520": {
          "model_module": "@jupyter-widgets/controls",
          "model_module_version": "1.5.0",
          "model_name": "HTMLModel",
          "state": {
            "_dom_classes": [],
            "_model_module": "@jupyter-widgets/controls",
            "_model_module_version": "1.5.0",
            "_model_name": "HTMLModel",
            "_view_count": null,
            "_view_module": "@jupyter-widgets/controls",
            "_view_module_version": "1.5.0",
            "_view_name": "HTMLView",
            "description": "",
            "description_tooltip": null,
            "layout": "IPY_MODEL_bb0331535d3649baab3aa26656652e74",
            "placeholder": "​",
            "style": "IPY_MODEL_8ec1ac15b9df4ceea08190b0b44f6f76",
            "value": " 84916/? [00:04&lt;00:00, 19682.77it/s]"
          }
        },
        "3b9a8b0a567848bfb966de8d5d10ee56": {
          "model_module": "@jupyter-widgets/controls",
          "model_module_version": "1.5.0",
          "model_name": "DescriptionStyleModel",
          "state": {
            "_model_module": "@jupyter-widgets/controls",
            "_model_module_version": "1.5.0",
            "_model_name": "DescriptionStyleModel",
            "_view_count": null,
            "_view_module": "@jupyter-widgets/base",
            "_view_module_version": "1.2.0",
            "_view_name": "StyleView",
            "description_width": ""
          }
        },
        "4a379ea867414ae88a8dc5938fbd1355": {
          "model_module": "@jupyter-widgets/base",
          "model_module_version": "1.2.0",
          "model_name": "LayoutModel",
          "state": {
            "_model_module": "@jupyter-widgets/base",
            "_model_module_version": "1.2.0",
            "_model_name": "LayoutModel",
            "_view_count": null,
            "_view_module": "@jupyter-widgets/base",
            "_view_module_version": "1.2.0",
            "_view_name": "LayoutView",
            "align_content": null,
            "align_items": null,
            "align_self": null,
            "border": null,
            "bottom": null,
            "display": null,
            "flex": null,
            "flex_flow": null,
            "grid_area": null,
            "grid_auto_columns": null,
            "grid_auto_flow": null,
            "grid_auto_rows": null,
            "grid_column": null,
            "grid_gap": null,
            "grid_row": null,
            "grid_template_areas": null,
            "grid_template_columns": null,
            "grid_template_rows": null,
            "height": null,
            "justify_content": null,
            "justify_items": null,
            "left": null,
            "margin": null,
            "max_height": null,
            "max_width": null,
            "min_height": null,
            "min_width": null,
            "object_fit": null,
            "object_position": null,
            "order": null,
            "overflow": null,
            "overflow_x": null,
            "overflow_y": null,
            "padding": null,
            "right": null,
            "top": null,
            "visibility": null,
            "width": null
          }
        },
        "4ead9172275344aa96231710ace902df": {
          "model_module": "@jupyter-widgets/controls",
          "model_module_version": "1.5.0",
          "model_name": "DescriptionStyleModel",
          "state": {
            "_model_module": "@jupyter-widgets/controls",
            "_model_module_version": "1.5.0",
            "_model_name": "DescriptionStyleModel",
            "_view_count": null,
            "_view_module": "@jupyter-widgets/base",
            "_view_module_version": "1.2.0",
            "_view_name": "StyleView",
            "description_width": ""
          }
        },
        "537fba73213f4f19a3d4550fe0b07df5": {
          "model_module": "@jupyter-widgets/controls",
          "model_module_version": "1.5.0",
          "model_name": "FloatProgressModel",
          "state": {
            "_dom_classes": [],
            "_model_module": "@jupyter-widgets/controls",
            "_model_module_version": "1.5.0",
            "_model_name": "FloatProgressModel",
            "_view_count": null,
            "_view_module": "@jupyter-widgets/controls",
            "_view_module_version": "1.5.0",
            "_view_name": "ProgressView",
            "bar_style": "success",
            "description": "",
            "description_tooltip": null,
            "layout": "IPY_MODEL_014f0c7b6b1644eab1b611cec816cdae",
            "max": 1,
            "min": 0,
            "orientation": "horizontal",
            "style": "IPY_MODEL_d54417fb5eea4be083b94f5034dd8a89",
            "value": 1
          }
        },
        "564ca798a6a0436ea3f27a5f89f6428c": {
          "model_module": "@jupyter-widgets/controls",
          "model_module_version": "1.5.0",
          "model_name": "HBoxModel",
          "state": {
            "_dom_classes": [],
            "_model_module": "@jupyter-widgets/controls",
            "_model_module_version": "1.5.0",
            "_model_name": "HBoxModel",
            "_view_count": null,
            "_view_module": "@jupyter-widgets/controls",
            "_view_module_version": "1.5.0",
            "_view_name": "HBoxView",
            "box_style": "",
            "children": [
              "IPY_MODEL_a46c923a0d63433aafaaecc2bfd04084",
              "IPY_MODEL_067bcb4b6255475a80f1d5e1f27e7392",
              "IPY_MODEL_7c7df3ebbe074cea9a113ef2f10ea0ac"
            ],
            "layout": "IPY_MODEL_92220d5be955480daafd56feec1979ed"
          }
        },
        "706e9755fefc4af4837b7841bb84afb2": {
          "model_module": "jupyterlab-plotly",
          "model_module_version": "^5.15.0",
          "model_name": "FigureModel",
          "state": {
            "_config": {
              "plotlyServerURL": "https://plot.ly"
            },
            "_data": [],
            "_dom_classes": [],
            "_js2py_layoutDelta": {},
            "_js2py_pointsCallback": {},
            "_js2py_relayout": {},
            "_js2py_restyle": {},
            "_js2py_traceDeltas": {},
            "_js2py_update": {},
            "_last_layout_edit_id": 3,
            "_last_trace_edit_id": 2,
            "_layout": {},
            "_model_module": "jupyterlab-plotly",
            "_model_module_version": "^5.15.0",
            "_model_name": "FigureModel",
            "_py2js_addTraces": null,
            "_py2js_animate": {},
            "_py2js_deleteTraces": {},
            "_py2js_moveTraces": {},
            "_py2js_relayout": null,
            "_py2js_removeLayoutProps": {},
            "_py2js_removeTraceProps": {},
            "_py2js_restyle": {},
            "_py2js_update": {},
            "_view_count": 0,
            "_view_module": "jupyterlab-plotly",
            "_view_module_version": "^5.15.0",
            "_view_name": "FigureView"
          }
        },
        "71bcbac344254443be061c1930ed58a5": {
          "model_module": "@jupyter-widgets/controls",
          "model_module_version": "1.5.0",
          "model_name": "ProgressStyleModel",
          "state": {
            "_model_module": "@jupyter-widgets/controls",
            "_model_module_version": "1.5.0",
            "_model_name": "ProgressStyleModel",
            "_view_count": null,
            "_view_module": "@jupyter-widgets/base",
            "_view_module_version": "1.2.0",
            "_view_name": "StyleView",
            "bar_color": null,
            "description_width": ""
          }
        },
        "742ac6fbb6504ec083ba80627658649e": {
          "model_module": "@jupyter-widgets/base",
          "model_module_version": "1.2.0",
          "model_name": "LayoutModel",
          "state": {
            "_model_module": "@jupyter-widgets/base",
            "_model_module_version": "1.2.0",
            "_model_name": "LayoutModel",
            "_view_count": null,
            "_view_module": "@jupyter-widgets/base",
            "_view_module_version": "1.2.0",
            "_view_name": "LayoutView",
            "align_content": null,
            "align_items": null,
            "align_self": null,
            "border": null,
            "bottom": null,
            "display": null,
            "flex": null,
            "flex_flow": null,
            "grid_area": null,
            "grid_auto_columns": null,
            "grid_auto_flow": null,
            "grid_auto_rows": null,
            "grid_column": null,
            "grid_gap": null,
            "grid_row": null,
            "grid_template_areas": null,
            "grid_template_columns": null,
            "grid_template_rows": null,
            "height": null,
            "justify_content": null,
            "justify_items": null,
            "left": null,
            "margin": null,
            "max_height": null,
            "max_width": null,
            "min_height": null,
            "min_width": null,
            "object_fit": null,
            "object_position": null,
            "order": null,
            "overflow": null,
            "overflow_x": null,
            "overflow_y": null,
            "padding": null,
            "right": null,
            "top": null,
            "visibility": null,
            "width": null
          }
        },
        "7c7df3ebbe074cea9a113ef2f10ea0ac": {
          "model_module": "@jupyter-widgets/controls",
          "model_module_version": "1.5.0",
          "model_name": "HTMLModel",
          "state": {
            "_dom_classes": [],
            "_model_module": "@jupyter-widgets/controls",
            "_model_module_version": "1.5.0",
            "_model_name": "HTMLModel",
            "_view_count": null,
            "_view_module": "@jupyter-widgets/controls",
            "_view_module_version": "1.5.0",
            "_view_name": "HTMLView",
            "description": "",
            "description_tooltip": null,
            "layout": "IPY_MODEL_a25e98c3ce954b119f9a58ab30f1b9b7",
            "placeholder": "​",
            "style": "IPY_MODEL_f975a697681c44919c72c3a3d614a98d",
            "value": " 0/15 [00:00&lt;?, ?it/s]"
          }
        },
        "807a8a8848324d22a400afaec8b4736c": {
          "model_module": "@jupyter-widgets/controls",
          "model_module_version": "1.5.0",
          "model_name": "FloatProgressModel",
          "state": {
            "_dom_classes": [],
            "_model_module": "@jupyter-widgets/controls",
            "_model_module_version": "1.5.0",
            "_model_name": "FloatProgressModel",
            "_view_count": null,
            "_view_module": "@jupyter-widgets/controls",
            "_view_module_version": "1.5.0",
            "_view_name": "ProgressView",
            "bar_style": "danger",
            "description": "",
            "description_tooltip": null,
            "layout": "IPY_MODEL_c898b22bd8c34821912068c4012656fb",
            "max": 1,
            "min": 0,
            "orientation": "horizontal",
            "style": "IPY_MODEL_71bcbac344254443be061c1930ed58a5",
            "value": 0
          }
        },
        "8afb5f848b194cf1a916de6f91ebaa5c": {
          "model_module": "@jupyter-widgets/controls",
          "model_module_version": "1.5.0",
          "model_name": "HTMLModel",
          "state": {
            "_dom_classes": [],
            "_model_module": "@jupyter-widgets/controls",
            "_model_module_version": "1.5.0",
            "_model_name": "HTMLModel",
            "_view_count": null,
            "_view_module": "@jupyter-widgets/controls",
            "_view_module_version": "1.5.0",
            "_view_name": "HTMLView",
            "description": "",
            "description_tooltip": null,
            "layout": "IPY_MODEL_e3b1e9ee0e494c559da85e8af4a8ee48",
            "placeholder": "​",
            "style": "IPY_MODEL_4ead9172275344aa96231710ace902df",
            "value": " 0/1 [00:00&lt;?, ?it/s]"
          }
        },
        "8ec1ac15b9df4ceea08190b0b44f6f76": {
          "model_module": "@jupyter-widgets/controls",
          "model_module_version": "1.5.0",
          "model_name": "DescriptionStyleModel",
          "state": {
            "_model_module": "@jupyter-widgets/controls",
            "_model_module_version": "1.5.0",
            "_model_name": "DescriptionStyleModel",
            "_view_count": null,
            "_view_module": "@jupyter-widgets/base",
            "_view_module_version": "1.2.0",
            "_view_name": "StyleView",
            "description_width": ""
          }
        },
        "92220d5be955480daafd56feec1979ed": {
          "model_module": "@jupyter-widgets/base",
          "model_module_version": "1.2.0",
          "model_name": "LayoutModel",
          "state": {
            "_model_module": "@jupyter-widgets/base",
            "_model_module_version": "1.2.0",
            "_model_name": "LayoutModel",
            "_view_count": null,
            "_view_module": "@jupyter-widgets/base",
            "_view_module_version": "1.2.0",
            "_view_name": "LayoutView",
            "align_content": null,
            "align_items": null,
            "align_self": null,
            "border": null,
            "bottom": null,
            "display": "inline-flex",
            "flex": null,
            "flex_flow": "row wrap",
            "grid_area": null,
            "grid_auto_columns": null,
            "grid_auto_flow": null,
            "grid_auto_rows": null,
            "grid_column": null,
            "grid_gap": null,
            "grid_row": null,
            "grid_template_areas": null,
            "grid_template_columns": null,
            "grid_template_rows": null,
            "height": null,
            "justify_content": null,
            "justify_items": null,
            "left": null,
            "margin": null,
            "max_height": null,
            "max_width": null,
            "min_height": null,
            "min_width": null,
            "object_fit": null,
            "object_position": null,
            "order": null,
            "overflow": null,
            "overflow_x": null,
            "overflow_y": null,
            "padding": null,
            "right": null,
            "top": null,
            "visibility": null,
            "width": "800px"
          }
        },
        "a25e98c3ce954b119f9a58ab30f1b9b7": {
          "model_module": "@jupyter-widgets/base",
          "model_module_version": "1.2.0",
          "model_name": "LayoutModel",
          "state": {
            "_model_module": "@jupyter-widgets/base",
            "_model_module_version": "1.2.0",
            "_model_name": "LayoutModel",
            "_view_count": null,
            "_view_module": "@jupyter-widgets/base",
            "_view_module_version": "1.2.0",
            "_view_name": "LayoutView",
            "align_content": null,
            "align_items": null,
            "align_self": null,
            "border": null,
            "bottom": null,
            "display": null,
            "flex": null,
            "flex_flow": null,
            "grid_area": null,
            "grid_auto_columns": null,
            "grid_auto_flow": null,
            "grid_auto_rows": null,
            "grid_column": null,
            "grid_gap": null,
            "grid_row": null,
            "grid_template_areas": null,
            "grid_template_columns": null,
            "grid_template_rows": null,
            "height": null,
            "justify_content": null,
            "justify_items": null,
            "left": null,
            "margin": null,
            "max_height": null,
            "max_width": null,
            "min_height": null,
            "min_width": null,
            "object_fit": null,
            "object_position": null,
            "order": null,
            "overflow": null,
            "overflow_x": null,
            "overflow_y": null,
            "padding": null,
            "right": null,
            "top": null,
            "visibility": null,
            "width": null
          }
        },
        "a46c923a0d63433aafaaecc2bfd04084": {
          "model_module": "@jupyter-widgets/controls",
          "model_module_version": "1.5.0",
          "model_name": "HTMLModel",
          "state": {
            "_dom_classes": [],
            "_model_module": "@jupyter-widgets/controls",
            "_model_module_version": "1.5.0",
            "_model_name": "HTMLModel",
            "_view_count": null,
            "_view_module": "@jupyter-widgets/controls",
            "_view_module_version": "1.5.0",
            "_view_name": "HTMLView",
            "description": "",
            "description_tooltip": null,
            "layout": "IPY_MODEL_4a379ea867414ae88a8dc5938fbd1355",
            "placeholder": "​",
            "style": "IPY_MODEL_009e5d195a85462daeeb585ed4d7d3a1",
            "value": "first epoch:   0%"
          }
        },
        "aca90a8114af4cf59745c0c5a8c9bb4b": {
          "model_module": "@jupyter-widgets/controls",
          "model_module_version": "1.5.0",
          "model_name": "HBoxModel",
          "state": {
            "_dom_classes": [],
            "_model_module": "@jupyter-widgets/controls",
            "_model_module_version": "1.5.0",
            "_model_name": "HBoxModel",
            "_view_count": null,
            "_view_module": "@jupyter-widgets/controls",
            "_view_module_version": "1.5.0",
            "_view_name": "HBoxView",
            "box_style": "",
            "children": [
              "IPY_MODEL_e59ac1cdcd0042bf89280947aa42838e",
              "IPY_MODEL_537fba73213f4f19a3d4550fe0b07df5",
              "IPY_MODEL_2fdb30a1fa4d4b03a7ab7b2cbfdc8520"
            ],
            "layout": "IPY_MODEL_742ac6fbb6504ec083ba80627658649e"
          }
        },
        "b5fe5c9e561841a9809be521c1cca76b": {
          "model_module": "@jupyter-widgets/controls",
          "model_module_version": "1.5.0",
          "model_name": "HBoxModel",
          "state": {
            "_dom_classes": [],
            "_model_module": "@jupyter-widgets/controls",
            "_model_module_version": "1.5.0",
            "_model_name": "HBoxModel",
            "_view_count": null,
            "_view_module": "@jupyter-widgets/controls",
            "_view_module_version": "1.5.0",
            "_view_name": "HBoxView",
            "box_style": "",
            "children": [
              "IPY_MODEL_e30679bbf4334714918dc3bbe43ff9a4",
              "IPY_MODEL_807a8a8848324d22a400afaec8b4736c",
              "IPY_MODEL_8afb5f848b194cf1a916de6f91ebaa5c"
            ],
            "layout": "IPY_MODEL_104b291367ee4f1083bbc74e125390f8"
          }
        },
        "b6c81e60b5914480aa219d75ea4f2428": {
          "model_module": "@jupyter-widgets/controls",
          "model_module_version": "1.5.0",
          "model_name": "ProgressStyleModel",
          "state": {
            "_model_module": "@jupyter-widgets/controls",
            "_model_module_version": "1.5.0",
            "_model_name": "ProgressStyleModel",
            "_view_count": null,
            "_view_module": "@jupyter-widgets/base",
            "_view_module_version": "1.2.0",
            "_view_name": "StyleView",
            "bar_color": null,
            "description_width": ""
          }
        },
        "b6ee36d3e52040958b3d0e06fb73e734": {
          "model_module": "@jupyter-widgets/base",
          "model_module_version": "1.2.0",
          "model_name": "LayoutModel",
          "state": {
            "_model_module": "@jupyter-widgets/base",
            "_model_module_version": "1.2.0",
            "_model_name": "LayoutModel",
            "_view_count": null,
            "_view_module": "@jupyter-widgets/base",
            "_view_module_version": "1.2.0",
            "_view_name": "LayoutView",
            "align_content": null,
            "align_items": null,
            "align_self": null,
            "border": null,
            "bottom": null,
            "display": null,
            "flex": null,
            "flex_flow": null,
            "grid_area": null,
            "grid_auto_columns": null,
            "grid_auto_flow": null,
            "grid_auto_rows": null,
            "grid_column": null,
            "grid_gap": null,
            "grid_row": null,
            "grid_template_areas": null,
            "grid_template_columns": null,
            "grid_template_rows": null,
            "height": null,
            "justify_content": null,
            "justify_items": null,
            "left": null,
            "margin": null,
            "max_height": null,
            "max_width": null,
            "min_height": null,
            "min_width": null,
            "object_fit": null,
            "object_position": null,
            "order": null,
            "overflow": null,
            "overflow_x": null,
            "overflow_y": null,
            "padding": null,
            "right": null,
            "top": null,
            "visibility": null,
            "width": null
          }
        },
        "bb0331535d3649baab3aa26656652e74": {
          "model_module": "@jupyter-widgets/base",
          "model_module_version": "1.2.0",
          "model_name": "LayoutModel",
          "state": {
            "_model_module": "@jupyter-widgets/base",
            "_model_module_version": "1.2.0",
            "_model_name": "LayoutModel",
            "_view_count": null,
            "_view_module": "@jupyter-widgets/base",
            "_view_module_version": "1.2.0",
            "_view_name": "LayoutView",
            "align_content": null,
            "align_items": null,
            "align_self": null,
            "border": null,
            "bottom": null,
            "display": null,
            "flex": null,
            "flex_flow": null,
            "grid_area": null,
            "grid_auto_columns": null,
            "grid_auto_flow": null,
            "grid_auto_rows": null,
            "grid_column": null,
            "grid_gap": null,
            "grid_row": null,
            "grid_template_areas": null,
            "grid_template_columns": null,
            "grid_template_rows": null,
            "height": null,
            "justify_content": null,
            "justify_items": null,
            "left": null,
            "margin": null,
            "max_height": null,
            "max_width": null,
            "min_height": null,
            "min_width": null,
            "object_fit": null,
            "object_position": null,
            "order": null,
            "overflow": null,
            "overflow_x": null,
            "overflow_y": null,
            "padding": null,
            "right": null,
            "top": null,
            "visibility": null,
            "width": null
          }
        },
        "c898b22bd8c34821912068c4012656fb": {
          "model_module": "@jupyter-widgets/base",
          "model_module_version": "1.2.0",
          "model_name": "LayoutModel",
          "state": {
            "_model_module": "@jupyter-widgets/base",
            "_model_module_version": "1.2.0",
            "_model_name": "LayoutModel",
            "_view_count": null,
            "_view_module": "@jupyter-widgets/base",
            "_view_module_version": "1.2.0",
            "_view_name": "LayoutView",
            "align_content": null,
            "align_items": null,
            "align_self": null,
            "border": null,
            "bottom": null,
            "display": null,
            "flex": "2",
            "flex_flow": null,
            "grid_area": null,
            "grid_auto_columns": null,
            "grid_auto_flow": null,
            "grid_auto_rows": null,
            "grid_column": null,
            "grid_gap": null,
            "grid_row": null,
            "grid_template_areas": null,
            "grid_template_columns": null,
            "grid_template_rows": null,
            "height": null,
            "justify_content": null,
            "justify_items": null,
            "left": null,
            "margin": null,
            "max_height": null,
            "max_width": null,
            "min_height": null,
            "min_width": null,
            "object_fit": null,
            "object_position": null,
            "order": null,
            "overflow": null,
            "overflow_x": null,
            "overflow_y": null,
            "padding": null,
            "right": null,
            "top": null,
            "visibility": null,
            "width": null
          }
        },
        "d54417fb5eea4be083b94f5034dd8a89": {
          "model_module": "@jupyter-widgets/controls",
          "model_module_version": "1.5.0",
          "model_name": "ProgressStyleModel",
          "state": {
            "_model_module": "@jupyter-widgets/controls",
            "_model_module_version": "1.5.0",
            "_model_name": "ProgressStyleModel",
            "_view_count": null,
            "_view_module": "@jupyter-widgets/base",
            "_view_module_version": "1.2.0",
            "_view_name": "StyleView",
            "bar_color": null,
            "description_width": ""
          }
        },
        "e30679bbf4334714918dc3bbe43ff9a4": {
          "model_module": "@jupyter-widgets/controls",
          "model_module_version": "1.5.0",
          "model_name": "HTMLModel",
          "state": {
            "_dom_classes": [],
            "_model_module": "@jupyter-widgets/controls",
            "_model_module_version": "1.5.0",
            "_model_name": "HTMLModel",
            "_view_count": null,
            "_view_module": "@jupyter-widgets/controls",
            "_view_module_version": "1.5.0",
            "_view_name": "HTMLView",
            "description": "",
            "description_tooltip": null,
            "layout": "IPY_MODEL_f861bee5ab6c4025937d758b9a446282",
            "placeholder": "​",
            "style": "IPY_MODEL_fb9c802790ba4b9485a6cfbf0e2726a4",
            "value": "  0%"
          }
        },
        "e3b1e9ee0e494c559da85e8af4a8ee48": {
          "model_module": "@jupyter-widgets/base",
          "model_module_version": "1.2.0",
          "model_name": "LayoutModel",
          "state": {
            "_model_module": "@jupyter-widgets/base",
            "_model_module_version": "1.2.0",
            "_model_name": "LayoutModel",
            "_view_count": null,
            "_view_module": "@jupyter-widgets/base",
            "_view_module_version": "1.2.0",
            "_view_name": "LayoutView",
            "align_content": null,
            "align_items": null,
            "align_self": null,
            "border": null,
            "bottom": null,
            "display": null,
            "flex": null,
            "flex_flow": null,
            "grid_area": null,
            "grid_auto_columns": null,
            "grid_auto_flow": null,
            "grid_auto_rows": null,
            "grid_column": null,
            "grid_gap": null,
            "grid_row": null,
            "grid_template_areas": null,
            "grid_template_columns": null,
            "grid_template_rows": null,
            "height": null,
            "justify_content": null,
            "justify_items": null,
            "left": null,
            "margin": null,
            "max_height": null,
            "max_width": null,
            "min_height": null,
            "min_width": null,
            "object_fit": null,
            "object_position": null,
            "order": null,
            "overflow": null,
            "overflow_x": null,
            "overflow_y": null,
            "padding": null,
            "right": null,
            "top": null,
            "visibility": null,
            "width": null
          }
        },
        "e59ac1cdcd0042bf89280947aa42838e": {
          "model_module": "@jupyter-widgets/controls",
          "model_module_version": "1.5.0",
          "model_name": "HTMLModel",
          "state": {
            "_dom_classes": [],
            "_model_module": "@jupyter-widgets/controls",
            "_model_module_version": "1.5.0",
            "_model_name": "HTMLModel",
            "_view_count": null,
            "_view_module": "@jupyter-widgets/controls",
            "_view_module_version": "1.5.0",
            "_view_name": "HTMLView",
            "description": "",
            "description_tooltip": null,
            "layout": "IPY_MODEL_b6ee36d3e52040958b3d0e06fb73e734",
            "placeholder": "​",
            "style": "IPY_MODEL_3b9a8b0a567848bfb966de8d5d10ee56",
            "value": ""
          }
        },
        "f861bee5ab6c4025937d758b9a446282": {
          "model_module": "@jupyter-widgets/base",
          "model_module_version": "1.2.0",
          "model_name": "LayoutModel",
          "state": {
            "_model_module": "@jupyter-widgets/base",
            "_model_module_version": "1.2.0",
            "_model_name": "LayoutModel",
            "_view_count": null,
            "_view_module": "@jupyter-widgets/base",
            "_view_module_version": "1.2.0",
            "_view_name": "LayoutView",
            "align_content": null,
            "align_items": null,
            "align_self": null,
            "border": null,
            "bottom": null,
            "display": null,
            "flex": null,
            "flex_flow": null,
            "grid_area": null,
            "grid_auto_columns": null,
            "grid_auto_flow": null,
            "grid_auto_rows": null,
            "grid_column": null,
            "grid_gap": null,
            "grid_row": null,
            "grid_template_areas": null,
            "grid_template_columns": null,
            "grid_template_rows": null,
            "height": null,
            "justify_content": null,
            "justify_items": null,
            "left": null,
            "margin": null,
            "max_height": null,
            "max_width": null,
            "min_height": null,
            "min_width": null,
            "object_fit": null,
            "object_position": null,
            "order": null,
            "overflow": null,
            "overflow_x": null,
            "overflow_y": null,
            "padding": null,
            "right": null,
            "top": null,
            "visibility": null,
            "width": null
          }
        },
        "f975a697681c44919c72c3a3d614a98d": {
          "model_module": "@jupyter-widgets/controls",
          "model_module_version": "1.5.0",
          "model_name": "DescriptionStyleModel",
          "state": {
            "_model_module": "@jupyter-widgets/controls",
            "_model_module_version": "1.5.0",
            "_model_name": "DescriptionStyleModel",
            "_view_count": null,
            "_view_module": "@jupyter-widgets/base",
            "_view_module_version": "1.2.0",
            "_view_name": "StyleView",
            "description_width": ""
          }
        },
        "fb9c802790ba4b9485a6cfbf0e2726a4": {
          "model_module": "@jupyter-widgets/controls",
          "model_module_version": "1.5.0",
          "model_name": "DescriptionStyleModel",
          "state": {
            "_model_module": "@jupyter-widgets/controls",
            "_model_module_version": "1.5.0",
            "_model_name": "DescriptionStyleModel",
            "_view_count": null,
            "_view_module": "@jupyter-widgets/base",
            "_view_module_version": "1.2.0",
            "_view_name": "StyleView",
            "description_width": ""
          }
        }
      }
    }
  },
  "nbformat": 4,
  "nbformat_minor": 0
}
