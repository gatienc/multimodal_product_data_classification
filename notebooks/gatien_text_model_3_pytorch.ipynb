{
  "cells": [
    {
      "cell_type": "markdown",
      "metadata": {
        "id": "view-in-github",
        "colab_type": "text"
      },
      "source": [
        "<a href=\"https://colab.research.google.com/github/gatienc/multimodal_product_data_classification/blob/main/gatien_text_model_3_pytorch.ipynb\" target=\"_parent\"><img src=\"https://colab.research.google.com/assets/colab-badge.svg\" alt=\"Open In Colab\"/></a>"
      ]
    },
    {
      "cell_type": "markdown",
      "source": [
        "*diff* : trying training on description too"
      ],
      "metadata": {
        "id": "K06hlE-s8dZw"
      }
    },
    {
      "cell_type": "code",
      "source": [
        "CLIP_FEATURE_SIZE=768\n"
      ],
      "metadata": {
        "id": "hUwysigOttvt"
      },
      "execution_count": 18,
      "outputs": []
    },
    {
      "cell_type": "code",
      "source": [
        "!pip install torcheval unidecode"
      ],
      "metadata": {
        "colab": {
          "base_uri": "https://localhost:8080/"
        },
        "id": "wXpZjiYTSoiE",
        "outputId": "76577eb4-c951-44fe-e5fe-29c0724dd872"
      },
      "execution_count": null,
      "outputs": [
        {
          "output_type": "stream",
          "name": "stdout",
          "text": [
            "Requirement already satisfied: torcheval in /usr/local/lib/python3.10/dist-packages (0.0.7)\n",
            "Requirement already satisfied: unidecode in /usr/local/lib/python3.10/dist-packages (1.3.8)\n",
            "Requirement already satisfied: typing-extensions in /usr/local/lib/python3.10/dist-packages (from torcheval) (4.5.0)\n"
          ]
        }
      ]
    },
    {
      "cell_type": "code",
      "execution_count": null,
      "metadata": {
        "id": "3K54S3DVU0Qw"
      },
      "outputs": [],
      "source": [
        "import pandas as pd\n",
        "import re\n",
        "from sklearn.model_selection import train_test_split\n",
        "from sklearn.preprocessing import LabelEncoder\n",
        "import numpy as np\n",
        "\n",
        "import torch\n",
        "import torch.nn as nn\n",
        "import torch.optim as optim\n",
        "import copy\n",
        "\n",
        "from torch.utils.data import Dataset, DataLoader\n",
        "\n",
        "from tqdm.auto import tqdm\n",
        "\n",
        "# import for NLP\n",
        "from tensorflow.keras.preprocessing.text import Tokenizer\n",
        "from tensorflow.keras.preprocessing.sequence import pad_sequences\n",
        "\n",
        "from keras.utils import to_categorical\n",
        "\n",
        "\n",
        "from sklearn.metrics import f1_score\n",
        "import unidecode\n",
        "\n"
      ]
    },
    {
      "cell_type": "code",
      "execution_count": null,
      "metadata": {
        "id": "aKLO2oDtU0Qy"
      },
      "outputs": [],
      "source": [
        "device = torch.device(\"cuda\" if torch.cuda.is_available() else \"cpu\")\n"
      ]
    },
    {
      "cell_type": "code",
      "execution_count": null,
      "metadata": {
        "id": "FLOe_dhqU0Qz"
      },
      "outputs": [],
      "source": [
        "# mount the drive where your dataset is available\n",
        "from google.colab import drive\n",
        "drive.mount('/content/drive')\n",
        "filepath='/content/drive/MyDrive/datasets/multimodal_product_classification/' # add your own path. Where to save the dataset"
      ]
    },
    {
      "cell_type": "code",
      "execution_count": null,
      "metadata": {
        "id": "Vt4WTd7YU0Q0"
      },
      "outputs": [],
      "source": [
        "# Load data\n",
        "X_train = pd.read_csv(filepath+'X_train.csv')\n",
        "y_train = pd.read_csv(filepath+'Y_train.csv')\n",
        "X_train=X_train.drop(columns=\"Unnamed: 0\")\n",
        "y_train=y_train.drop(columns=\"Unnamed: 0\")"
      ]
    },
    {
      "cell_type": "code",
      "execution_count": null,
      "metadata": {
        "id": "chxen8jQU0Q1"
      },
      "outputs": [],
      "source": [
        "# Cleaning and Preprocessing Text\n",
        "CLEANR = re.compile('<.*?>') # delete html tag\n",
        "\n",
        "def clean_html(raw_html):\n",
        "  cleantext = re.sub(CLEANR, '', raw_html)\n",
        "  return cleantext\n",
        "\n",
        "def clean_text(text):\n",
        "    text=clean_html(text)\n",
        "    # Remove special characters and numbers\n",
        "    text = unidecode.unidecode(text)\n",
        "    text = re.sub(r'[^a-zA-ZäöüßÄÖÜ ]', '', text)\n",
        "    # Convert text to lowercase\n",
        "    text = text.lower()\n",
        "    return text"
      ]
    },
    {
      "cell_type": "code",
      "execution_count": null,
      "metadata": {
        "id": "syt9HpO2U0Q2"
      },
      "outputs": [],
      "source": [
        "# Apply cleaning function to the 'designation' column\n",
        "X_train['designation'] = X_train['designation'].fillna('').apply(clean_text)\n",
        "X_train['description'] = X_train['description'].fillna('').apply(clean_text)\n",
        "description_list=[]\n",
        "description_index=[]\n",
        "for index,element in enumerate(X_train['description']):\n",
        "    if len(element)>10:\n",
        "        # print(\"element\",element)\n",
        "        description_list.append(element)\n",
        "        description_index.append(index)\n",
        "y_train_description=[]\n",
        "for index in description_index:\n",
        "    y_train_description.append(y_train[\"prdtypecode\"][int(index)])\n",
        "\n",
        "\n",
        "# Tokenization\n",
        "tokenizer = Tokenizer()\n",
        "tokenizer.fit_on_texts(X_train['designation'])\n",
        "sequences = tokenizer.texts_to_sequences(pd.concat([X_train['designation'], pd.Series(description_list)], axis=0))\n",
        "\n",
        "# Padding to max length of text\n",
        "data = pad_sequences(sequences, maxlen=34)\n",
        "\n",
        "# Assuming the number of unique words in the tokenizer plus 1 is vocab_size\n",
        "vocab_size = len(tokenizer.word_index) + 1\n",
        "print(vocab_size)# nearly 70 000 of vocab size, it seems too much"
      ]
    },
    {
      "cell_type": "code",
      "execution_count": null,
      "metadata": {
        "id": "0vSBCqyaU0Q3"
      },
      "outputs": [],
      "source": [
        "# Split data into training and validation set (80% train, 20% validation)\n",
        "X_train, X_val, y_train, y_val = train_test_split(data,pd.concat([y_train, pd.DataFrame(y_train_description,columns=['prdtypecode'])], axis=0) , test_size=0.2,shuffle=True)\n",
        "y_train=y_train[\"prdtypecode\"].tolist()\n",
        "y_val=y_val[\"prdtypecode\"].tolist()"
      ]
    },
    {
      "cell_type": "code",
      "source": [
        "# Convert labels to categorical\n",
        "label_encoder = LabelEncoder()\n",
        "y_train_encoded = label_encoder.fit_transform(y_train)\n",
        "y_val_encoded = label_encoder.transform(y_val)\n",
        "\n",
        "# Convert to one-hot encoding\n",
        "y_train_categorical = to_categorical(y_train_encoded)\n",
        "y_val_categorical = to_categorical(y_val_encoded)\n"
      ],
      "metadata": {
        "id": "Tt6NKIafH2Zw"
      },
      "execution_count": null,
      "outputs": []
    },
    {
      "cell_type": "code",
      "source": [
        "class TextDataset(Dataset):\n",
        "    def __init__(self, X, Y):\n",
        "        self.inputs = X\n",
        "        self.labels = Y\n",
        "\n",
        "    def __len__(self):\n",
        "        return len(self.labels)\n",
        "\n",
        "    def __getitem__(self, idx):\n",
        "        x = torch.tensor(self.inputs[idx]).to(device)\n",
        "        y = torch.tensor(self.labels[idx], dtype=torch.float).to(device)\n",
        "        return x, y"
      ],
      "metadata": {
        "id": "dGdDkF1McYMq"
      },
      "execution_count": null,
      "outputs": []
    },
    {
      "cell_type": "code",
      "source": [
        "embedding_dim = 300\n",
        "batch_size=128"
      ],
      "metadata": {
        "id": "Bv7-J5jNM4ko"
      },
      "execution_count": null,
      "outputs": []
    },
    {
      "cell_type": "code",
      "source": [
        "train_dataset=TextDataset(X_train,y_train_categorical)\n",
        "train_loader=DataLoader(train_dataset, batch_size=batch_size, shuffle=True)\n",
        "\n",
        "val_dataset=TextDataset(X_val,y_val_categorical)\n",
        "val_loader=DataLoader(val_dataset, batch_size=batch_size, shuffle=True)\n"
      ],
      "metadata": {
        "id": "Ne8BU9YReV1V"
      },
      "execution_count": null,
      "outputs": []
    },
    {
      "cell_type": "markdown",
      "metadata": {
        "id": "VyPs8yDGU0Q3"
      },
      "source": [
        "# Model definition\n"
      ]
    },
    {
      "cell_type": "code",
      "execution_count": null,
      "metadata": {
        "id": "9ZhLwkJBU0Q5"
      },
      "outputs": [],
      "source": [
        "\n",
        "# Define the model\n",
        "class CNN_classifier(nn.Module):\n",
        "    def __init__(self, vocab_size, embedding_dim, num_classes):\n",
        "        super(CNN_classifier, self).__init__()\n",
        "        self.embedding = nn.Embedding(vocab_size, embedding_dim)\n",
        "        self.conv_blocks = nn.ModuleList([\n",
        "            nn.Conv2d(1, 512, (i, embedding_dim), padding=(0, 0))\n",
        "            for i in range(1,7)\n",
        "        ])\n",
        "        self.dropout = nn.Dropout(0.5)\n",
        "        self.fc = nn.Linear(512 * 6, CLIP_FEATURE_SIZE)\n",
        "        self.classif=nn.Linear(CLIP_FEATURE_SIZE,num_classes)\n",
        "\n",
        "    def forward(self, x):\n",
        "        x = self.embedding(x)\n",
        "        x = x.unsqueeze(1)  # Add channel dimension for Conv2d\n",
        "        conv_outputs = [nn.functional.relu(conv_block(x)).max(dim=3)[0].max(dim=2)[0] for conv_block in self.conv_blocks]# [0] to get only the values and not the indices ( in pos 1 )\n",
        "        x = torch.cat(conv_outputs, dim=1)\n",
        "        # Dense Layer\n",
        "\n",
        "        # Flatten Layer\n",
        "        x = x.view(x.size(0), -1)\n",
        "        # Dropout Layer\n",
        "        x = self.dropout(x)\n",
        "\n",
        "        x = self.fc(x)\n",
        "        x = self.classif(x)\n",
        "        return x\n"
      ]
    },
    {
      "cell_type": "code",
      "execution_count": null,
      "metadata": {
        "id": "1U8waN8YU0Q7"
      },
      "outputs": [],
      "source": [
        "# Initialize the model\n",
        "num_classes = 27\n",
        "model = CNN_classifier(vocab_size, embedding_dim, num_classes)\n",
        "\n",
        "# Convert the model to CUDA if available\n",
        "model.to(device)\n",
        "\n",
        "# Define the loss function and optimizer\n",
        "criterion = nn.CrossEntropyLoss()\n",
        "optimizer = optim.Adam(model.parameters())\n",
        "# Print the model summary\n",
        "print(model)\n"
      ]
    },
    {
      "cell_type": "code",
      "execution_count": null,
      "metadata": {
        "id": "1ohTkfsnU0Q9"
      },
      "outputs": [],
      "source": [
        "def train_model(model,train_loader,val_loader,num_epochs=10):  # Train the model\n",
        "  val_f1=0\n",
        "  max_val_f1=0\n",
        "  for epoch in tqdm(range(num_epochs)):\n",
        "      model.train()\n",
        "      for inputs, labels in tqdm(train_loader,desc=f\"Epoch {epoch + 1}/{num_epochs}, Validation F1 Score: {val_f1:.4f}\"):\n",
        "          optimizer.zero_grad()\n",
        "          outputs = model(inputs)\n",
        "          outputs=outputs.squeeze(0)\n",
        "          loss = criterion(outputs, labels)\n",
        "          loss.backward()\n",
        "          optimizer.step()\n",
        "\n",
        "      model.eval()\n",
        "      with torch.no_grad():\n",
        "          val_preds = []\n",
        "          val_labels = []\n",
        "          for val_inputs, val_labels_batch in val_loader:\n",
        "              val_outputs = model(val_inputs)\n",
        "              val_preds.append(val_outputs.cpu())\n",
        "              val_labels.append(val_labels_batch.cpu())\n",
        "\n",
        "      val_preds = torch.cat(val_preds, dim=0)\n",
        "      val_labels = torch.cat(val_labels, dim=0)\n",
        "\n",
        "    #   print(f'{val_labels=}')\n",
        "    #   print(f'{torch.argmax(val_preds, dim=1)=}')\n",
        "\n",
        "      val_f1 = f1_score(torch.argmax(val_labels,dim=1), torch.argmax(val_preds, dim=1), average='macro')\n",
        "      if val_f1>max_val_f1:\n",
        "        max_val_f1=val_f1\n",
        "        torch.save(model.state_dict(), '/content/drive/MyDrive/Lessons/Models/multimodal_classification/' + 'Text_model_val_f1_{:.3f}_epoch{}.ckpt'.format(val_f1,epoch))\n",
        "        best_model_wts = copy.deepcopy(model.state_dict())\n",
        "\n",
        "  model.load_state_dict(best_model_wts)\n",
        "  return(model,max_val_f1)\n"
      ]
    },
    {
      "cell_type": "code",
      "source": [
        "model,max_val_f1=train_model(model,train_loader,val_loader,num_epochs=10)"
      ],
      "metadata": {
        "id": "8u5be1oU7yaE"
      },
      "execution_count": null,
      "outputs": []
    },
    {
      "cell_type": "markdown",
      "source": [
        "# Test part"
      ],
      "metadata": {
        "id": "CNAorMrKdzAD"
      }
    },
    {
      "cell_type": "code",
      "source": [
        "X_test = pd.read_csv(filepath+'X_test.csv')\n",
        "X_test=X_test.drop(columns=\"Unnamed: 0\")\n",
        "X_test['designation'] = X_test['designation'].fillna('').apply(clean_text)\n",
        "sequences = tokenizer.texts_to_sequences(X_test['designation'])\n",
        "\n",
        "# Padding to max length of text\n",
        "data = pad_sequences(sequences, maxlen=34)\n"
      ],
      "metadata": {
        "id": "coEIf5uneNo0"
      },
      "execution_count": null,
      "outputs": []
    },
    {
      "cell_type": "code",
      "source": [
        "print(data)"
      ],
      "metadata": {
        "id": "cncW6xlweu2L"
      },
      "execution_count": null,
      "outputs": []
    },
    {
      "cell_type": "code",
      "source": [
        "model.to(device)\n",
        "model.eval()"
      ],
      "metadata": {
        "id": "eM-WMkjfgKxC"
      },
      "execution_count": null,
      "outputs": []
    },
    {
      "cell_type": "code",
      "source": [
        "val_preds = []\n",
        "with torch.no_grad():\n",
        "  for input in tqdm(data):\n",
        "      input=torch.from_numpy(input)\n",
        "      input=input.to(device)\n",
        "      input=input.unsqueeze(0)\n",
        "      val_outputs = model(input)[0]\n",
        "      val_outputs=val_outputs.detach().cpu().numpy()\n",
        "      val_preds.append(val_outputs)"
      ],
      "metadata": {
        "id": "pqWFN9t5dxjm"
      },
      "execution_count": null,
      "outputs": []
    },
    {
      "cell_type": "code",
      "source": [
        "val_preds"
      ],
      "metadata": {
        "id": "fFBACRoW5LMX"
      },
      "execution_count": null,
      "outputs": []
    },
    {
      "cell_type": "code",
      "source": [
        "val_preds=np.argmax(val_preds,axis=1)"
      ],
      "metadata": {
        "id": "LsEZpp8_hZmf"
      },
      "execution_count": null,
      "outputs": []
    },
    {
      "cell_type": "code",
      "source": [
        "val_preds=label_encoder.inverse_transform(val_preds)"
      ],
      "metadata": {
        "id": "GEWqgCPO6muD"
      },
      "execution_count": null,
      "outputs": []
    },
    {
      "cell_type": "code",
      "source": [
        "df_preds=pd.DataFrame(val_preds)\n",
        "df_preds=df_preds.set_index(df_preds.index+84916)"
      ],
      "metadata": {
        "id": "PixKkCRskS70"
      },
      "execution_count": null,
      "outputs": []
    },
    {
      "cell_type": "code",
      "source": [
        "df_preds"
      ],
      "metadata": {
        "id": "F1dGk5Tb7Ah7"
      },
      "execution_count": null,
      "outputs": []
    },
    {
      "cell_type": "code",
      "source": [
        "df_preds.to_csv(\"eval_text_designation.csv\")"
      ],
      "metadata": {
        "id": "Skhnz__f4xde"
      },
      "execution_count": null,
      "outputs": []
    }
  ],
  "metadata": {
    "language_info": {
      "name": "python"
    },
    "colab": {
      "provenance": [],
      "gpuType": "T4",
      "include_colab_link": true
    },
    "kernelspec": {
      "name": "python3",
      "display_name": "Python 3"
    },
    "accelerator": "GPU"
  },
  "nbformat": 4,
  "nbformat_minor": 0
}